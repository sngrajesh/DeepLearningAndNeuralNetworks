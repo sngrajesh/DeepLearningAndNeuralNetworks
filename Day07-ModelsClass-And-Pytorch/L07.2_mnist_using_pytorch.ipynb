{
 "cells": [
  {
   "cell_type": "markdown",
   "id": "70c85456-3b72-408c-a8fa-97241750afba",
   "metadata": {},
   "source": [
    "!pip install pydot graphviz\n"
   ]
  },
  {
   "cell_type": "code",
   "execution_count": 1,
   "id": "0e9588da-1b01-46f8-9ad9-c9e9eeb1d727",
   "metadata": {},
   "outputs": [],
   "source": [
    "#!pip install torchsummary\n",
    "\n"
   ]
  },
  {
   "cell_type": "code",
   "execution_count": 2,
   "id": "a80a63f9-3c58-46af-b12a-2f4da8efc21b",
   "metadata": {},
   "outputs": [],
   "source": [
    "###-----------------\n",
    "### Import Libraries\n",
    "###-----------------\n",
    "import sys\n",
    "\n",
    "\n",
    "sys.path.append('../')\n",
    "import os\n",
    "import numpy as np\n",
    "import pandas as pd\n",
    "import matplotlib.pyplot as plt\n",
    "\n",
    "from sklearn import datasets\n",
    "from sklearn.model_selection import train_test_split\n",
    "import matplotlib\n",
    "import torch\n",
    "import torch.nn as nn\n",
    "from sklearn.metrics import accuracy_score, confusion_matrix, ConfusionMatrixDisplay, classification_report\n",
    "from torch.utils.data import Dataset, DataLoader\n",
    "\n",
    "from torch.utils.data import Dataset, DataLoader\n",
    "from torchsummary import summary\n",
    "import tensorflow as tf\n",
    "from utils.helper import fn_plot_tf_hist, fn_plot_confusion_matrix\n",
    "from sklearn.preprocessing import StandardScaler\n",
    "\n",
    "from utils.helper import fn_plot_torch_hist"
   ]
  },
  {
   "cell_type": "code",
   "execution_count": 3,
   "id": "1492a0ed-c162-43ea-a901-69c526cd6199",
   "metadata": {},
   "outputs": [],
   "source": [
    "import warnings\n",
    "warnings.filterwarnings('ignore')"
   ]
  },
  {
   "cell_type": "code",
   "execution_count": 4,
   "id": "9e572e6c-7f94-4df2-8e9b-4e02a3e4939e",
   "metadata": {},
   "outputs": [],
   "source": [
    "# Global variables\n",
    "inpDir = '../input' # Input Stored here\n",
    "outDir = '../ouput' # output Here\n",
    "modelDir = './models'# to save Models\n",
    "subDir = 'fifa_2019' # sub dir by dataset\n",
    "RANDOM_STATE = 24\n",
    "np.random.RandomState(seed = RANDOM_STATE)\n",
    "torch.manual_seed(RANDOM_STATE)\n",
    "#rng = np.random.default_rng(seed = RANDOM_STATE)\n",
    "#N_SAMPLE = 1000\n",
    "TEST_SIZE = 0.2\n",
    "ALPHA = 0.001 # learning rate\n",
    "NOISE = 0.2 # Error\n",
    "EPOCHS = 101\n",
    "BATCH_SIZE = 256\n",
    "LR_FACTOR=0.1\n",
    "LR_PATIENCE=10"
   ]
  },
  {
   "cell_type": "code",
   "execution_count": 5,
   "id": "6a4bcc65-a247-4cce-8a6b-f40692ac48f5",
   "metadata": {},
   "outputs": [],
   "source": [
    "#set the plotting parameters\n",
    "params = {\n",
    "    'legend.fontsize': 'medium',\n",
    "    'figure.figsize':(15,4),\n",
    "    'axes.labelsize':'medium',\n",
    "    'axes.titlesize':'medium',\n",
    "    'xtick.labelsize': 'medium',\n",
    "    'ytick.labelsize':'medium',\n",
    "    #'text.usetex':True,\n",
    "}\n",
    "plt.rcParams.update(params)\n",
    "CMAP = plt.cm.coolwarm\n",
    "plt.style.use('seaborn-v0_8-darkgrid')\n"
   ]
  },
  {
   "cell_type": "code",
   "execution_count": 6,
   "id": "6949f482-2439-4782-8abd-fd697b754517",
   "metadata": {},
   "outputs": [],
   "source": [
    "# data_df = pd.read_csv(os.path.join(inpDir,'fifa_2019.csv'))"
   ]
  },
  {
   "cell_type": "code",
   "execution_count": 7,
   "id": "d2ff9bdd",
   "metadata": {},
   "outputs": [
    {
     "data": {
      "text/plain": [
       "((60000, 785), (10000, 785))"
      ]
     },
     "execution_count": 7,
     "metadata": {},
     "output_type": "execute_result"
    }
   ],
   "source": [
    "train_filename = os.path.join(inpDir, 'fashion_mnist', 'fashion-mnist_train.csv')\n",
    "valid_filename = os.path.join(inpDir, 'fashion_mnist', 'fashion-mnist_test.csv')\n",
    "\n",
    "train_df = pd.read_csv(train_filename, header = 0)\n",
    "valid_df = pd.read_csv(valid_filename, header = 0)\n",
    "\n",
    "\n",
    "train_df.shape, valid_df.shape"
   ]
  },
  {
   "cell_type": "code",
   "execution_count": 8,
   "id": "4bef9d1e-43da-44fa-8813-c1484add446f",
   "metadata": {},
   "outputs": [
    {
     "data": {
      "text/html": [
       "<div>\n",
       "<style scoped>\n",
       "    .dataframe tbody tr th:only-of-type {\n",
       "        vertical-align: middle;\n",
       "    }\n",
       "\n",
       "    .dataframe tbody tr th {\n",
       "        vertical-align: top;\n",
       "    }\n",
       "\n",
       "    .dataframe thead th {\n",
       "        text-align: right;\n",
       "    }\n",
       "</style>\n",
       "<table border=\"1\" class=\"dataframe\">\n",
       "  <thead>\n",
       "    <tr style=\"text-align: right;\">\n",
       "      <th></th>\n",
       "      <th>label</th>\n",
       "      <th>pixel1</th>\n",
       "      <th>pixel2</th>\n",
       "      <th>pixel3</th>\n",
       "      <th>pixel4</th>\n",
       "      <th>pixel5</th>\n",
       "      <th>pixel6</th>\n",
       "      <th>pixel7</th>\n",
       "      <th>pixel8</th>\n",
       "      <th>pixel9</th>\n",
       "      <th>...</th>\n",
       "      <th>pixel775</th>\n",
       "      <th>pixel776</th>\n",
       "      <th>pixel777</th>\n",
       "      <th>pixel778</th>\n",
       "      <th>pixel779</th>\n",
       "      <th>pixel780</th>\n",
       "      <th>pixel781</th>\n",
       "      <th>pixel782</th>\n",
       "      <th>pixel783</th>\n",
       "      <th>pixel784</th>\n",
       "    </tr>\n",
       "  </thead>\n",
       "  <tbody>\n",
       "    <tr>\n",
       "      <th>0</th>\n",
       "      <td>2</td>\n",
       "      <td>0</td>\n",
       "      <td>0</td>\n",
       "      <td>0</td>\n",
       "      <td>0</td>\n",
       "      <td>0</td>\n",
       "      <td>0</td>\n",
       "      <td>0</td>\n",
       "      <td>0</td>\n",
       "      <td>0</td>\n",
       "      <td>...</td>\n",
       "      <td>0</td>\n",
       "      <td>0</td>\n",
       "      <td>0</td>\n",
       "      <td>0</td>\n",
       "      <td>0</td>\n",
       "      <td>0</td>\n",
       "      <td>0</td>\n",
       "      <td>0</td>\n",
       "      <td>0</td>\n",
       "      <td>0</td>\n",
       "    </tr>\n",
       "    <tr>\n",
       "      <th>1</th>\n",
       "      <td>9</td>\n",
       "      <td>0</td>\n",
       "      <td>0</td>\n",
       "      <td>0</td>\n",
       "      <td>0</td>\n",
       "      <td>0</td>\n",
       "      <td>0</td>\n",
       "      <td>0</td>\n",
       "      <td>0</td>\n",
       "      <td>0</td>\n",
       "      <td>...</td>\n",
       "      <td>0</td>\n",
       "      <td>0</td>\n",
       "      <td>0</td>\n",
       "      <td>0</td>\n",
       "      <td>0</td>\n",
       "      <td>0</td>\n",
       "      <td>0</td>\n",
       "      <td>0</td>\n",
       "      <td>0</td>\n",
       "      <td>0</td>\n",
       "    </tr>\n",
       "    <tr>\n",
       "      <th>2</th>\n",
       "      <td>6</td>\n",
       "      <td>0</td>\n",
       "      <td>0</td>\n",
       "      <td>0</td>\n",
       "      <td>0</td>\n",
       "      <td>0</td>\n",
       "      <td>0</td>\n",
       "      <td>0</td>\n",
       "      <td>5</td>\n",
       "      <td>0</td>\n",
       "      <td>...</td>\n",
       "      <td>0</td>\n",
       "      <td>0</td>\n",
       "      <td>0</td>\n",
       "      <td>30</td>\n",
       "      <td>43</td>\n",
       "      <td>0</td>\n",
       "      <td>0</td>\n",
       "      <td>0</td>\n",
       "      <td>0</td>\n",
       "      <td>0</td>\n",
       "    </tr>\n",
       "    <tr>\n",
       "      <th>3</th>\n",
       "      <td>0</td>\n",
       "      <td>0</td>\n",
       "      <td>0</td>\n",
       "      <td>0</td>\n",
       "      <td>1</td>\n",
       "      <td>2</td>\n",
       "      <td>0</td>\n",
       "      <td>0</td>\n",
       "      <td>0</td>\n",
       "      <td>0</td>\n",
       "      <td>...</td>\n",
       "      <td>3</td>\n",
       "      <td>0</td>\n",
       "      <td>0</td>\n",
       "      <td>0</td>\n",
       "      <td>0</td>\n",
       "      <td>1</td>\n",
       "      <td>0</td>\n",
       "      <td>0</td>\n",
       "      <td>0</td>\n",
       "      <td>0</td>\n",
       "    </tr>\n",
       "    <tr>\n",
       "      <th>4</th>\n",
       "      <td>3</td>\n",
       "      <td>0</td>\n",
       "      <td>0</td>\n",
       "      <td>0</td>\n",
       "      <td>0</td>\n",
       "      <td>0</td>\n",
       "      <td>0</td>\n",
       "      <td>0</td>\n",
       "      <td>0</td>\n",
       "      <td>0</td>\n",
       "      <td>...</td>\n",
       "      <td>0</td>\n",
       "      <td>0</td>\n",
       "      <td>0</td>\n",
       "      <td>0</td>\n",
       "      <td>0</td>\n",
       "      <td>0</td>\n",
       "      <td>0</td>\n",
       "      <td>0</td>\n",
       "      <td>0</td>\n",
       "      <td>0</td>\n",
       "    </tr>\n",
       "  </tbody>\n",
       "</table>\n",
       "<p>5 rows × 785 columns</p>\n",
       "</div>"
      ],
      "text/plain": [
       "   label  pixel1  pixel2  pixel3  pixel4  pixel5  pixel6  pixel7  pixel8  \\\n",
       "0      2       0       0       0       0       0       0       0       0   \n",
       "1      9       0       0       0       0       0       0       0       0   \n",
       "2      6       0       0       0       0       0       0       0       5   \n",
       "3      0       0       0       0       1       2       0       0       0   \n",
       "4      3       0       0       0       0       0       0       0       0   \n",
       "\n",
       "   pixel9  ...  pixel775  pixel776  pixel777  pixel778  pixel779  pixel780  \\\n",
       "0       0  ...         0         0         0         0         0         0   \n",
       "1       0  ...         0         0         0         0         0         0   \n",
       "2       0  ...         0         0         0        30        43         0   \n",
       "3       0  ...         3         0         0         0         0         1   \n",
       "4       0  ...         0         0         0         0         0         0   \n",
       "\n",
       "   pixel781  pixel782  pixel783  pixel784  \n",
       "0         0         0         0         0  \n",
       "1         0         0         0         0  \n",
       "2         0         0         0         0  \n",
       "3         0         0         0         0  \n",
       "4         0         0         0         0  \n",
       "\n",
       "[5 rows x 785 columns]"
      ]
     },
     "execution_count": 8,
     "metadata": {},
     "output_type": "execute_result"
    }
   ],
   "source": [
    "train_df.head()"
   ]
  },
  {
   "cell_type": "code",
   "execution_count": 9,
   "id": "06230d8e-f05e-4d4a-b40b-aecb30d2549e",
   "metadata": {},
   "outputs": [],
   "source": [
    "# for col in train_df.columns:\n",
    "#     unq = train_df[col].unique()\n",
    "#     print(f'{col}, #:{len(unq)}, Values:{unq}')"
   ]
  },
  {
   "cell_type": "code",
   "execution_count": 10,
   "id": "e6f03572-1e66-42b0-96ee-dc24c43fcc78",
   "metadata": {},
   "outputs": [
    {
     "data": {
      "text/plain": [
       "Index(['pixel775', 'pixel776', 'pixel777', 'pixel778', 'pixel779', 'pixel780',\n",
       "       'pixel781', 'pixel782', 'pixel783', 'pixel784'],\n",
       "      dtype='object')"
      ]
     },
     "execution_count": 10,
     "metadata": {},
     "output_type": "execute_result"
    }
   ],
   "source": [
    "train_df.columns[-10:]"
   ]
  },
  {
   "cell_type": "code",
   "execution_count": 11,
   "id": "04af4530-82fa-4c06-8539-d3df644d7271",
   "metadata": {},
   "outputs": [
    {
     "data": {
      "text/plain": [
       "0"
      ]
     },
     "execution_count": 11,
     "metadata": {},
     "output_type": "execute_result"
    }
   ],
   "source": [
    "# data_df.dropna(subset= ('Position'), inplace = True)\n",
    "train_df.isna().sum().sum()"
   ]
  },
  {
   "cell_type": "code",
   "execution_count": 12,
   "id": "d724fb7f-115a-49bb-b641-5480d80bd028",
   "metadata": {},
   "outputs": [
    {
     "name": "stdout",
     "output_type": "stream",
     "text": [
      "<class 'pandas.core.frame.DataFrame'>\n",
      "RangeIndex: 60000 entries, 0 to 59999\n",
      "Columns: 785 entries, label to pixel784\n",
      "dtypes: int64(785)\n",
      "memory usage: 359.3 MB\n"
     ]
    }
   ],
   "source": [
    "train_df.info()\n"
   ]
  },
  {
   "cell_type": "code",
   "execution_count": 13,
   "id": "2000e717-c407-4fa0-9f30-1f6a0ccf827a",
   "metadata": {},
   "outputs": [],
   "source": [
    "# num_cols = data_df.select_dtypes(exclude='object')"
   ]
  },
  {
   "cell_type": "code",
   "execution_count": 14,
   "id": "41b5c244-8a66-4b69-8b49-c59596f75c87",
   "metadata": {},
   "outputs": [],
   "source": [
    "# num_cols.info()"
   ]
  },
  {
   "cell_type": "code",
   "execution_count": 15,
   "id": "91abad4c-ab6c-4910-a86e-954120c9d422",
   "metadata": {},
   "outputs": [],
   "source": [
    "# rel_cols = ['Position', 'Finishing', 'HeadingAccuracy', 'ShortPassing', 'Volleys', 'Dribbling', 'Curve', 'FKAccuracy', 'LongPassing', \n",
    "#             'BallControl', 'Acceleration', 'SprintSpeed', 'Agility', 'Reactions', 'Balance', 'ShotPower', 'Jumping', 'Stamina', \n",
    "#             'Strength', 'LongShots', 'Aggression', 'Interceptions', 'Positioning', 'Vision', 'Penalties', 'Composure', 'Marking', \n",
    "#             'StandingTackle', 'SlidingTackle', 'GKDiving', 'GKHandling', 'GKKicking', 'GKPositioning', 'GKReflexes']\n"
   ]
  },
  {
   "cell_type": "code",
   "execution_count": 16,
   "id": "d43fc7d1-0717-44a1-828d-7b987ec74f66",
   "metadata": {},
   "outputs": [
    {
     "data": {
      "text/plain": [
       "array([2, 9, 6, 0, 3, 4, 5, 8, 7, 1], dtype=int64)"
      ]
     },
     "execution_count": 16,
     "metadata": {},
     "output_type": "execute_result"
    }
   ],
   "source": [
    "train_df['label'].unique()"
   ]
  },
  {
   "cell_type": "code",
   "execution_count": 60,
   "id": "39f46c40",
   "metadata": {},
   "outputs": [],
   "source": [
    "class_names = {\n",
    "    0: 'T-shirt/top',\n",
    "    1:'Trouser',\n",
    "    2:'Pullover',\n",
    "    3:'Dress',\n",
    "    4:'Coat',\n",
    "    5:'Sandal', \n",
    "    6: 'Shirt',\n",
    "    7: 'Sneaker', \n",
    "    8:'Bag', \n",
    "    9: 'Ankle boot'\n",
    "}"
   ]
  },
  {
   "cell_type": "code",
   "execution_count": 18,
   "id": "654da7b0-4c14-4015-ab09-f332abbad5e8",
   "metadata": {},
   "outputs": [],
   "source": [
    "X = train_df.drop('label',axis=1)\n",
    "y = train_df['label'].to_numpy()"
   ]
  },
  {
   "cell_type": "markdown",
   "id": "0462ee68-5257-4f30-a373-bf55d0902e85",
   "metadata": {},
   "source": [
    "## Split Data in test train"
   ]
  },
  {
   "cell_type": "code",
   "execution_count": 19,
   "id": "ea7fe31c-fa5e-43c3-8990-cca89953b13a",
   "metadata": {},
   "outputs": [
    {
     "data": {
      "text/plain": [
       "((48000, 784), (12000, 784), (48000,), (12000,))"
      ]
     },
     "execution_count": 19,
     "metadata": {},
     "output_type": "execute_result"
    }
   ],
   "source": [
    "X_train, X_test, y_train, y_test = train_test_split(X, y, test_size=TEST_SIZE, stratify=y, random_state=RANDOM_STATE)\n",
    "X_train.shape, X_test.shape, y_train.shape, y_test.shape"
   ]
  },
  {
   "cell_type": "code",
   "execution_count": 20,
   "id": "fd0976fe-7513-46d0-ab66-9ac12d086908",
   "metadata": {},
   "outputs": [
    {
     "data": {
      "text/plain": [
       "(pandas.core.frame.DataFrame,\n",
       " pandas.core.frame.DataFrame,\n",
       " numpy.ndarray,\n",
       " numpy.ndarray)"
      ]
     },
     "execution_count": 20,
     "metadata": {},
     "output_type": "execute_result"
    }
   ],
   "source": [
    "type(X_train), type(X_test), type(y_train), type(y_test)"
   ]
  },
  {
   "cell_type": "code",
   "execution_count": 21,
   "id": "9e2a6d49-cf56-4d20-b467-3c907f7809b0",
   "metadata": {},
   "outputs": [],
   "source": [
    "sc = StandardScaler()\n",
    "X_train = sc.fit_transform(X_train)\n",
    "X_test = sc.transform(X_test)"
   ]
  },
  {
   "cell_type": "code",
   "execution_count": 22,
   "id": "97b58cbd-0bfd-405b-ad9a-6344e5622d85",
   "metadata": {},
   "outputs": [
    {
     "data": {
      "text/plain": [
       "(48000, 784)"
      ]
     },
     "execution_count": 22,
     "metadata": {},
     "output_type": "execute_result"
    }
   ],
   "source": [
    "X_train.shape"
   ]
  },
  {
   "cell_type": "code",
   "execution_count": 23,
   "id": "214ca1de-3731-43a9-b2b5-0eefd6f49b67",
   "metadata": {},
   "outputs": [],
   "source": [
    "'''Define custom dataset'''\n",
    "class MnistDataset(Dataset):\n",
    "    def __init__(self, X, y):\n",
    "        super(MnistDataset, self).__init__()\n",
    "        self.X = torch.tensor(X, dtype = torch.float32)\n",
    "        self.y = torch.tensor(y, dtype = torch.long)\n",
    "        \n",
    "    def __len__(self): # length of the data = no. of rows \n",
    "        return(len(self.X))\n",
    "\n",
    "    def __getitem__(self, idx): # give me index of X , y\n",
    "        return self.X[idx], self.y[idx]\n",
    "    "
   ]
  },
  {
   "cell_type": "code",
   "execution_count": 24,
   "id": "2cb532ff-7057-4dda-bccc-8c6502773c87",
   "metadata": {},
   "outputs": [],
   "source": [
    "train_dataset = MnistDataset(X_train, y_train)"
   ]
  },
  {
   "cell_type": "code",
   "execution_count": 25,
   "id": "7a8c68f6-9249-4ec4-8741-daba248c54dc",
   "metadata": {},
   "outputs": [],
   "source": [
    "train_loader = DataLoader(\n",
    "    dataset = train_dataset, \n",
    "    batch_size = BATCH_SIZE,\n",
    "    shuffle = True\n",
    ")"
   ]
  },
  {
   "cell_type": "code",
   "execution_count": 26,
   "id": "d637e178",
   "metadata": {},
   "outputs": [
    {
     "data": {
      "text/plain": [
       "<torch.utils.data.dataloader.DataLoader at 0x13876746000>"
      ]
     },
     "execution_count": 26,
     "metadata": {},
     "output_type": "execute_result"
    }
   ],
   "source": [
    "train_loader"
   ]
  },
  {
   "cell_type": "code",
   "execution_count": 27,
   "id": "b02b774c-5ca8-4000-bee6-2145357934b8",
   "metadata": {},
   "outputs": [],
   "source": [
    "X_batch, y_batch = next(iter(train_loader))"
   ]
  },
  {
   "cell_type": "code",
   "execution_count": 28,
   "id": "e4913e01-195c-423e-bf30-52bbd4279648",
   "metadata": {},
   "outputs": [
    {
     "data": {
      "text/plain": [
       "(torch.Size([256, 784]), torch.Size([256]))"
      ]
     },
     "execution_count": 28,
     "metadata": {},
     "output_type": "execute_result"
    }
   ],
   "source": [
    "X_batch.shape, y_batch.shape"
   ]
  },
  {
   "cell_type": "code",
   "execution_count": 29,
   "id": "945c9b06-846a-4f9e-b2ea-ac448e5918c9",
   "metadata": {},
   "outputs": [],
   "source": [
    "test_dataset = MnistDataset(X_test, y_test)"
   ]
  },
  {
   "cell_type": "code",
   "execution_count": null,
   "id": "10255ea3-8ebb-4c96-8a1a-d5a46eb0d724",
   "metadata": {},
   "outputs": [],
   "source": []
  },
  {
   "cell_type": "code",
   "execution_count": null,
   "id": "ccd053fd-f9f2-4fc6-b61f-9a09d5d40afe",
   "metadata": {},
   "outputs": [
    {
     "data": {
      "text/plain": [
       "(torch.Size([256, 784]), torch.Size([256]))"
      ]
     },
     "execution_count": 30,
     "metadata": {},
     "output_type": "execute_result"
    }
   ],
   "source": [
    "test_loader = DataLoader(dataset = test_dataset,\n",
    "                          batch_size = BATCH_SIZE,\n",
    "                          shuffle = True\n",
    "                         )\n",
    "X_batch, y_batch = next(iter(test_loader))\n",
    "X_batch.shape, y_batch.shape"
   ]
  },
  {
   "cell_type": "markdown",
   "id": "6abdcd01-6945-449a-8271-ed1088d6ebee",
   "metadata": {},
   "source": [
    "## comments are alternate ways to do "
   ]
  },
  {
   "cell_type": "markdown",
   "id": "a4661ce4-ad10-445c-9d22-f8e842bd058e",
   "metadata": {},
   "source": [
    "* Is environment Ok"
   ]
  },
  {
   "cell_type": "code",
   "execution_count": 31,
   "id": "fb2fe16e-a4ce-4ef8-b889-8e8f1cb81f38",
   "metadata": {},
   "outputs": [],
   "source": [
    "# torch.cuda.is_available()"
   ]
  },
  {
   "cell_type": "code",
   "execution_count": 32,
   "id": "d24943b6-42d2-46c6-8105-3785293c5ad2",
   "metadata": {},
   "outputs": [],
   "source": [
    "# import torch.version\n",
    "# torch.version.cuda"
   ]
  },
  {
   "cell_type": "code",
   "execution_count": 33,
   "id": "0cbd67ba-ab74-4383-bad9-5f09e5a3aeb8",
   "metadata": {},
   "outputs": [],
   "source": [
    "# torch.cuda.get_device_name(torch.cuda.current_device())"
   ]
  },
  {
   "cell_type": "code",
   "execution_count": 34,
   "id": "920a3a6f-e3d2-43ef-a8bb-4c34ca9a25ab",
   "metadata": {},
   "outputs": [
    {
     "data": {
      "text/plain": [
       "'cpu'"
      ]
     },
     "execution_count": 34,
     "metadata": {},
     "output_type": "execute_result"
    }
   ],
   "source": [
    "device = 'cuda' if torch.cuda.is_available() else 'cpu'\n",
    "device"
   ]
  },
  {
   "cell_type": "code",
   "execution_count": 35,
   "id": "91a20402",
   "metadata": {},
   "outputs": [
    {
     "data": {
      "text/plain": [
       "784"
      ]
     },
     "execution_count": 35,
     "metadata": {},
     "output_type": "execute_result"
    }
   ],
   "source": [
    "X_train.shape[1]"
   ]
  },
  {
   "cell_type": "code",
   "execution_count": null,
   "id": "f7dbc2eb-8e0c-49a2-8d54-2415b5e8244e",
   "metadata": {},
   "outputs": [],
   "source": [
    "input_dim = X_train.shape[1]\n",
    "\n",
    "class Model(nn.Module):\n",
    "    \n",
    "    def __init__(self, input_dim):\n",
    "        super(Model, self).__init__()\n",
    "\n",
    "        # Set 1\n",
    "        dor1 = 0.3\n",
    "        self.layer1 = nn.Linear(input_dim, 392)\n",
    "        self.actv1 = nn.ReLU()\n",
    "        self.do1 = nn.Dropout(dor1)\n",
    "        self.bn1 = nn.BatchNorm1d(392) # Size same as from layer1\n",
    "        \n",
    "        # Set 2\n",
    "        dor2 = 0.3\n",
    "        self.layer2 = nn.Linear(392, 196)\n",
    "        self.actv2 = nn.ReLU()\n",
    "        self.do2 = nn.Dropout(dor2)\n",
    "        self.bn2 = nn.BatchNorm1d(196) # Size same as o/p from layer2\n",
    "        \n",
    "        # Set 3\n",
    "        dor3 = 0.5\n",
    "        self.layer3 = nn.Linear(196, 98)\n",
    "        self.actv3 = nn.ReLU()\n",
    "        self.do3 = nn.Dropout(dor3)\n",
    "        self.bn3 = nn.BatchNorm1d(98) # Size same as o/p from layer3\n",
    "        \n",
    "        # Set 4\n",
    "        self.layer4 = nn.Linear(98, 10)\n",
    " \n",
    "\n",
    "    def forward(self, x):\n",
    "        # Set 1\n",
    "        x = self.layer1(x)\n",
    "        x = self.bn1(x)     # Batch Norm\n",
    "        x = self.actv1(x)\n",
    "        x = self.do1(x)\n",
    "\n",
    "        # Set 2\n",
    "        x = self.layer2(x)\n",
    "        x = self.bn2(x)     # Batch Norm\n",
    "        x = self.actv2(x)\n",
    "        x = self.do2(x)\n",
    "\n",
    "        # Set 3\n",
    "        x = self.layer3(x)\n",
    "        x = self.bn3(x)     # Batch Norm\n",
    "        x = self.actv3(x)\n",
    "        x = self.do3(x)\n",
    "\n",
    "        # Set 4\n",
    "        x = self.layer4(x)\n",
    "        return x\n"
   ]
  },
  {
   "cell_type": "code",
   "execution_count": 63,
   "id": "7d7735b4",
   "metadata": {},
   "outputs": [
    {
     "name": "stdout",
     "output_type": "stream",
     "text": [
      "Model(\n",
      "  (layer1): Linear(in_features=784, out_features=392, bias=True)\n",
      "  (actv1): ReLU()\n",
      "  (do1): Dropout(p=0.3, inplace=False)\n",
      "  (bn1): BatchNorm1d(392, eps=1e-05, momentum=0.1, affine=True, track_running_stats=True)\n",
      "  (layer2): Linear(in_features=392, out_features=196, bias=True)\n",
      "  (actv2): ReLU()\n",
      "  (do2): Dropout(p=0.3, inplace=False)\n",
      "  (bn2): BatchNorm1d(196, eps=1e-05, momentum=0.1, affine=True, track_running_stats=True)\n",
      "  (layer3): Linear(in_features=196, out_features=98, bias=True)\n",
      "  (actv3): ReLU()\n",
      "  (do3): Dropout(p=0.5, inplace=False)\n",
      "  (bn3): BatchNorm1d(98, eps=1e-05, momentum=0.1, affine=True, track_running_stats=True)\n",
      "  (layer4): Linear(in_features=98, out_features=10, bias=True)\n",
      ")\n"
     ]
    }
   ],
   "source": [
    "model = Model(input_dim).to(device=device)\n",
    "print(model)\n",
    "\n",
    "# model = nn.Sequential(nn.Linear(input_dim, 18),\n",
    "#                      nn.ReLU(),\n",
    "#                      nn.Linear(18,4)\n",
    "#                      ).to(device=device)\n"
   ]
  },
  {
   "cell_type": "code",
   "execution_count": 64,
   "id": "3401b5cf-d63b-4698-bfe1-85c7de7f4fbd",
   "metadata": {},
   "outputs": [
    {
     "name": "stdout",
     "output_type": "stream",
     "text": [
      "----------------------------------------------------------------\n",
      "        Layer (type)               Output Shape         Param #\n",
      "================================================================\n",
      "            Linear-1                  [-1, 392]         307,720\n",
      "       BatchNorm1d-2                  [-1, 392]             784\n",
      "              ReLU-3                  [-1, 392]               0\n",
      "           Dropout-4                  [-1, 392]               0\n",
      "            Linear-5                  [-1, 196]          77,028\n",
      "       BatchNorm1d-6                  [-1, 196]             392\n",
      "              ReLU-7                  [-1, 196]               0\n",
      "           Dropout-8                  [-1, 196]               0\n",
      "            Linear-9                   [-1, 98]          19,306\n",
      "      BatchNorm1d-10                   [-1, 98]             196\n",
      "             ReLU-11                   [-1, 98]               0\n",
      "          Dropout-12                   [-1, 98]               0\n",
      "           Linear-13                   [-1, 10]             990\n",
      "================================================================\n",
      "Total params: 406,416\n",
      "Trainable params: 406,416\n",
      "Non-trainable params: 0\n",
      "----------------------------------------------------------------\n",
      "Input size (MB): 0.00\n",
      "Forward/backward pass size (MB): 0.02\n",
      "Params size (MB): 1.55\n",
      "Estimated Total Size (MB): 1.57\n",
      "----------------------------------------------------------------\n"
     ]
    }
   ],
   "source": [
    "# summary(model, (18,33))\n",
    "summary(model, (784,))"
   ]
  },
  {
   "cell_type": "code",
   "execution_count": 65,
   "id": "6c3933b0-38d7-4ae4-a716-82913fba34c6",
   "metadata": {},
   "outputs": [
    {
     "name": "stdout",
     "output_type": "stream",
     "text": [
      "torch.Size([392, 784])\n",
      "torch.Size([392])\n",
      "torch.Size([392])\n",
      "torch.Size([392])\n",
      "torch.Size([196, 392])\n",
      "torch.Size([196])\n",
      "torch.Size([196])\n",
      "torch.Size([196])\n",
      "torch.Size([98, 196])\n",
      "torch.Size([98])\n",
      "torch.Size([98])\n",
      "torch.Size([98])\n",
      "torch.Size([10, 98])\n",
      "torch.Size([10])\n"
     ]
    }
   ],
   "source": [
    "for param in list(model.parameters()):\n",
    "    print(param.shape)\n",
    "\n",
    "# Input\n",
    "#Bias\n"
   ]
  },
  {
   "cell_type": "code",
   "execution_count": 66,
   "id": "7853ca67-1697-4472-bf34-2dac9d50501d",
   "metadata": {},
   "outputs": [],
   "source": [
    "# train_X = torch.tensor(X_train, dtype=torch.float32, device=device)\n",
    "# train_y = torch.tensor(y_train, dtype=torch.int64, device=device)\n",
    "\n",
    "# test_X = torch.tensor(X_test, dtype=torch.float32, device=device)\n",
    "# test_y = torch.tensor(y_test, dtype=torch.int64, device=device)"
   ]
  },
  {
   "cell_type": "code",
   "execution_count": 67,
   "id": "cb7585ae-5e8d-43ca-86db-d994ecd5f587",
   "metadata": {},
   "outputs": [],
   "source": [
    "#torch.optim.RMSprop(model.)"
   ]
  },
  {
   "cell_type": "code",
   "execution_count": null,
   "id": "5b2a18cd-32bc-40b8-b9f9-d754b62375f3",
   "metadata": {},
   "outputs": [
    {
     "name": "stdout",
     "output_type": "stream",
     "text": [
      "Epoch:    0 | Loss: 0.72022/0.42298| Accuracy: 0.77618/0.84737\n",
      "Acc:  0.77618/ 0.84737\n",
      "LR:  0.00100\n",
      "Epoch:   10 | Loss: 0.28468/0.30032| Accuracy: 0.89973/0.89130\n",
      "Acc:  0.89973/ 0.89130\n",
      "LR:  0.00100\n",
      "Epoch:   20 | Loss: 0.21332/0.30882| Accuracy: 0.92339/0.89312\n",
      "Acc:  0.92339/ 0.89312\n",
      "LR:  0.00100\n",
      "Epoch:   30 | Loss: 0.14746/0.30546| Accuracy: 0.94779/0.90447\n",
      "Acc:  0.94779/ 0.90447\n",
      "LR:  0.00010\n",
      "Epoch:   40 | Loss: 0.13255/0.31208| Accuracy: 0.95261/0.90395\n",
      "Acc:  0.95261/ 0.90395\n",
      "LR:  0.00001\n",
      "Epoch:   50 | Loss: 0.12809/0.31425| Accuracy: 0.95508/0.90342\n",
      "Acc:  0.95508/ 0.90342\n",
      "LR:  0.00001\n",
      "Epoch:   60 | Loss: 0.12660/0.31530| Accuracy: 0.95489/0.90377\n",
      "Acc:  0.95489/ 0.90377\n",
      "LR:  0.00001\n",
      "Epoch:   70 | Loss: 0.12449/0.31881| Accuracy: 0.95566/0.90364\n",
      "Acc:  0.95566/ 0.90364\n",
      "LR:  0.00001\n",
      "Epoch:   80 | Loss: 0.12666/0.31851| Accuracy: 0.95460/0.90445\n",
      "Acc:  0.95460/ 0.90445\n",
      "LR:  0.00001\n",
      "Epoch:   90 | Loss: 0.12145/0.32109| Accuracy: 0.95776/0.90449\n",
      "Acc:  0.95776/ 0.90449\n",
      "LR:  0.00001\n",
      "Epoch:  100 | Loss: 0.12198/0.32238| Accuracy: 0.95707/0.90426\n",
      "Acc:  0.95707/ 0.90426\n",
      "LR:  0.00001\n"
     ]
    }
   ],
   "source": [
    "\n",
    "#Loss function\n",
    "#Compilation and # Fit()\n",
    "loss_fn = nn.CrossEntropyLoss()\n",
    "#Optimizer\n",
    "optimizer = torch.optim.Adam(model.parameters(), lr = ALPHA)\n",
    "\n",
    "# If modell not improving after no. of epochs reduce LR with LR_FACTOR\n",
    "scheduler = torch.optim.lr_scheduler.ReduceLROnPlateau(\n",
    "    optimizer,\n",
    "    mode='min',\n",
    "    factor=LR_FACTOR,\n",
    "    patience=LR_PATIENCE,\n",
    "    min_lr=1e-5\n",
    ")\n",
    "# always need to write \n",
    "# some lists to collect progress\n",
    "loss = []\n",
    "tloss = []\n",
    "n_epoch = []\n",
    "acc = []\n",
    "tacc=[]\n",
    "\n",
    "# loop for definedd epochs\n",
    "for epoch in range(EPOCHS):\n",
    "    model.train() # set model in training mode \n",
    "    epoch_loss = 0\n",
    "    epoch_acc = 0\n",
    "    tepoch_loss = 0\n",
    "    tepoch_acc = 0\n",
    "   \n",
    "    for batch_idx, (train_X, train_y) in enumerate(train_loader):\n",
    "        train_X = train_X.to(device)\n",
    "        train_y = train_y.to(device)\n",
    "        predict_proba = model(train_X) # make predict\n",
    "        batch_loss = loss_fn(predict_proba, train_y) # calculate loss\n",
    "        epoch_loss += (batch_loss - epoch_loss) / (batch_idx+1) # calculate running mean -> batch loss for each batch -> then calculate avg loss for epoch\n",
    "        #curr_loss = loss_fn(predict_proba, train_y)\n",
    "        # Backpropagation\n",
    "        optimizer.zero_grad() # Gradient set to Zero\n",
    "        batch_loss.backward() # calculate loss in backpropagation\n",
    "        optimizer.step() # move with the steps given by optimizer\n",
    "        y_pred = predict_proba.argmax(dim=1).cpu().numpy()\n",
    "        batch_acc = accuracy_score(train_y.cpu().numpy(), y_pred)\n",
    "        epoch_acc += (batch_acc - epoch_acc)/(batch_idx+1) #accuracy for each batch -> then calculate avg accuracy for epoch\n",
    "        \n",
    "    loss.append(epoch_loss.data.item())\n",
    "    acc.append(epoch_acc)\n",
    "\n",
    "    model.eval()\n",
    "\n",
    "    for batch_idx, (test_X, test_y) in enumerate(test_loader):\n",
    "        test_X, test_y = test_X.to(device), test_y.to(device)\n",
    "        test_proba = model(test_X)\n",
    "        batch_loss = loss_fn(test_proba, test_y)\n",
    "        tepoch_loss += (batch_loss - tepoch_loss)/ (batch_idx + 1)\n",
    "\n",
    "        y_pred =test_proba.argmax(dim=1).cpu().numpy()\n",
    "        batch_acc = accuracy_score(test_y.cpu().numpy(), y_pred)\n",
    "        tepoch_acc += (batch_acc - tepoch_acc)/(batch_idx+1) #accuracy for each batch -> then calculate avg accuracy for epoch\n",
    "    \n",
    "    tacc.append(tepoch_acc)\n",
    "    tloss.append(tepoch_loss.data.item())\n",
    "    n_epoch.append(epoch)\n",
    "    # loss.append(curr_loss.data.item())\n",
    "    # y_pred = torch.argmax(predict_proba, dim=1).cpu().numpy()\n",
    "    # curr_acc = accuracy_score(train_y.cpu().numpy(), y_pred)\n",
    "    # acc.append(curr_acc)\n",
    "\n",
    "    # model.eval()# set your model in eval mode\n",
    "    # test_proba = model(test_X) # make prediction\n",
    "    # test_loss = loss_fn(test_proba, test_y) # calculate loss\n",
    "    # tloss.append(test_loss.data.item()) # append for plotting\n",
    "    \n",
    "    # y_pred = torch.argmax(test_proba, dim=1).cpu().numpy()\n",
    "    # test_acc = accuracy_score(test_y.cpu().numpy(),y_pred)\n",
    "    # tacc.append(test_acc)\n",
    "    # n_epoch.append(epoch)\n",
    "\n",
    "    #LR Reduction step\n",
    "    scheduler.step(tepoch_loss)\n",
    "    if epoch % 10 == 0:\n",
    "        print(f'Epoch:{epoch:>5d} | Loss: {epoch_loss:0.5f}/{tepoch_loss:0.5f}| Accuracy: {epoch_acc:0.5f}/{tepoch_acc:0.5f}')\n",
    "        print(f'Acc: {epoch_acc: .5f}/{tepoch_acc: .5f}')\n",
    "        print(f'LR: {scheduler.get_last_lr()[0]: .5f}')\n",
    "    "
   ]
  },
  {
   "cell_type": "code",
   "execution_count": 69,
   "id": "005a3878-56c5-4445-b2ca-c9999575c304",
   "metadata": {},
   "outputs": [
    {
     "data": {
      "text/html": [
       "<div>\n",
       "<style scoped>\n",
       "    .dataframe tbody tr th:only-of-type {\n",
       "        vertical-align: middle;\n",
       "    }\n",
       "\n",
       "    .dataframe tbody tr th {\n",
       "        vertical-align: top;\n",
       "    }\n",
       "\n",
       "    .dataframe thead th {\n",
       "        text-align: right;\n",
       "    }\n",
       "</style>\n",
       "<table border=\"1\" class=\"dataframe\">\n",
       "  <thead>\n",
       "    <tr style=\"text-align: right;\">\n",
       "      <th></th>\n",
       "      <th>epoch</th>\n",
       "      <th>loss</th>\n",
       "      <th>test_loss</th>\n",
       "      <th>acc</th>\n",
       "      <th>test_acc</th>\n",
       "    </tr>\n",
       "  </thead>\n",
       "  <tbody>\n",
       "    <tr>\n",
       "      <th>0</th>\n",
       "      <td>0</td>\n",
       "      <td>0.720223</td>\n",
       "      <td>0.422978</td>\n",
       "      <td>0.776180</td>\n",
       "      <td>0.847371</td>\n",
       "    </tr>\n",
       "    <tr>\n",
       "      <th>1</th>\n",
       "      <td>1</td>\n",
       "      <td>0.456271</td>\n",
       "      <td>0.380724</td>\n",
       "      <td>0.846867</td>\n",
       "      <td>0.861809</td>\n",
       "    </tr>\n",
       "    <tr>\n",
       "      <th>2</th>\n",
       "      <td>2</td>\n",
       "      <td>0.403409</td>\n",
       "      <td>0.350282</td>\n",
       "      <td>0.861806</td>\n",
       "      <td>0.870203</td>\n",
       "    </tr>\n",
       "    <tr>\n",
       "      <th>3</th>\n",
       "      <td>3</td>\n",
       "      <td>0.380870</td>\n",
       "      <td>0.334362</td>\n",
       "      <td>0.867312</td>\n",
       "      <td>0.880094</td>\n",
       "    </tr>\n",
       "    <tr>\n",
       "      <th>4</th>\n",
       "      <td>4</td>\n",
       "      <td>0.354130</td>\n",
       "      <td>0.330717</td>\n",
       "      <td>0.875353</td>\n",
       "      <td>0.878206</td>\n",
       "    </tr>\n",
       "  </tbody>\n",
       "</table>\n",
       "</div>"
      ],
      "text/plain": [
       "   epoch      loss  test_loss       acc  test_acc\n",
       "0      0  0.720223   0.422978  0.776180  0.847371\n",
       "1      1  0.456271   0.380724  0.846867  0.861809\n",
       "2      2  0.403409   0.350282  0.861806  0.870203\n",
       "3      3  0.380870   0.334362  0.867312  0.880094\n",
       "4      4  0.354130   0.330717  0.875353  0.878206"
      ]
     },
     "execution_count": 69,
     "metadata": {},
     "output_type": "execute_result"
    }
   ],
   "source": [
    "loss_df = pd.DataFrame({\n",
    "    'epoch':n_epoch ,\n",
    "    'loss':loss,\n",
    "    'test_loss':tloss,\n",
    "    'acc':acc,\n",
    "    'test_acc':tacc\n",
    "})\n",
    "loss_df.head()"
   ]
  },
  {
   "cell_type": "code",
   "execution_count": 70,
   "id": "d3bc51a5-bd9c-450c-b38d-b46657166157",
   "metadata": {},
   "outputs": [
    {
     "data": {
      "image/png": "[encoded data removed]",
      "text/plain": [
       "<Figure size 1500x600 with 2 Axes>"
      ]
     },
     "metadata": {},
     "output_type": "display_data"
    }
   ],
   "source": [
    "fn_plot_torch_hist(hist_df=loss_df)"
   ]
  },
  {
   "cell_type": "code",
   "execution_count": 71,
   "id": "b38c9a13-00ef-44be-80a4-9a527f349b70",
   "metadata": {},
   "outputs": [
    {
     "data": {
      "text/plain": [
       "torch.Size([128, 10])"
      ]
     },
     "execution_count": 71,
     "metadata": {},
     "output_type": "execute_result"
    }
   ],
   "source": [
    "outputs = model(train_X)\n",
    "outputs.shape"
   ]
  },
  {
   "cell_type": "code",
   "execution_count": 72,
   "id": "55863046-e260-4c14-8b56-570a9ec7ee73",
   "metadata": {},
   "outputs": [
    {
     "data": {
      "text/plain": [
       "array([9, 4, 1, 4, 8, 0, 9, 8, 4, 2, 2, 5, 9, 1, 6, 3, 1, 5, 4, 6, 8, 8,\n",
       "       2, 8, 4, 9, 0, 0, 0, 7, 0, 7, 6, 6, 3, 9, 4, 2, 0, 5, 0, 5, 2, 3,\n",
       "       6, 8, 7, 1, 7, 9, 3, 0, 9, 1, 0, 3, 6, 7, 6, 0, 1, 2, 8, 5, 6, 9,\n",
       "       6, 9, 9, 5, 2, 5, 4, 5, 1, 9, 6, 1, 6, 5, 6, 7, 6, 8, 6, 7, 9, 9,\n",
       "       2, 9, 6, 3, 3, 4, 3, 4, 0, 2, 7, 5, 8, 8, 3, 9, 0, 4, 8, 8, 1, 5,\n",
       "       3, 9, 5, 5, 3, 8, 9, 1, 7, 2, 4, 7, 3, 3, 4, 1, 2, 3], dtype=int64)"
      ]
     },
     "execution_count": 72,
     "metadata": {},
     "output_type": "execute_result"
    }
   ],
   "source": [
    "y_pred = torch.argmax(outputs, dim=1).cpu().numpy() #outputs.cpu().detach().numpy()\n",
    "y_pred"
   ]
  },
  {
   "cell_type": "code",
   "execution_count": 73,
   "id": "a331b08c-40c9-4ecc-956d-c1d721100193",
   "metadata": {},
   "outputs": [
    {
     "name": "stdout",
     "output_type": "stream",
     "text": [
      "              precision    recall  f1-score   support\n",
      "\n",
      "           0       1.00      1.00      1.00        12\n",
      "           1       1.00      1.00      1.00        11\n",
      "           2       1.00      1.00      1.00        11\n",
      "           3       0.93      0.93      0.93        14\n",
      "           4       0.83      1.00      0.91        10\n",
      "           5       1.00      1.00      1.00        13\n",
      "           6       1.00      0.88      0.94        17\n",
      "           7       1.00      1.00      1.00        10\n",
      "           8       1.00      1.00      1.00        13\n",
      "           9       1.00      1.00      1.00        17\n",
      "\n",
      "    accuracy                           0.98       128\n",
      "   macro avg       0.98      0.98      0.98       128\n",
      "weighted avg       0.98      0.98      0.98       128\n",
      "\n"
     ]
    }
   ],
   "source": [
    "print(classification_report(train_y.cpu().numpy(), y_pred))"
   ]
  },
  {
   "cell_type": "code",
   "execution_count": 74,
   "id": "f473bf5f-366d-4098-90a0-e38bd67af1fa",
   "metadata": {},
   "outputs": [
    {
     "name": "stdout",
     "output_type": "stream",
     "text": [
      "              precision    recall  f1-score   support\n",
      "\n",
      "           0       1.00      1.00      1.00        12\n",
      "           1       1.00      1.00      1.00        11\n",
      "           2       1.00      1.00      1.00        11\n",
      "           3       0.93      0.93      0.93        14\n",
      "           4       0.83      1.00      0.91        10\n",
      "           5       1.00      1.00      1.00        13\n",
      "           6       1.00      0.88      0.94        17\n",
      "           7       1.00      1.00      1.00        10\n",
      "           8       1.00      1.00      1.00        13\n",
      "           9       1.00      1.00      1.00        17\n",
      "\n",
      "    accuracy                           0.98       128\n",
      "   macro avg       0.98      0.98      0.98       128\n",
      "weighted avg       0.98      0.98      0.98       128\n",
      "\n"
     ]
    }
   ],
   "source": [
    "y_true = train_y.cpu().numpy()\n",
    "print(classification_report(y_true, y_pred))"
   ]
  },
  {
   "cell_type": "code",
   "execution_count": 75,
   "id": "58f48178-95d1-4613-b3a1-62cfa204e4d6",
   "metadata": {},
   "outputs": [
    {
     "data": {
      "image/png": "[encoded data removed]",
      "text/plain": [
       "<Figure size 1500x400 with 1 Axes>"
      ]
     },
     "metadata": {},
     "output_type": "display_data"
    }
   ],
   "source": [
    "# Confusion Matrix\n",
    "\n",
    "cm = confusion_matrix(y_true, y_pred)\n",
    "disp = ConfusionMatrixDisplay(confusion_matrix=cm,display_labels=class_names.values())\n",
    "\n",
    "disp.plot(cmap= 'Blues', xticks_rotation = 'vertical', colorbar = False)\n",
    "plt.grid(False)"
   ]
  },
  {
   "cell_type": "code",
   "execution_count": null,
   "id": "01f4190f-f518-4d4a-9fa4-54da949ec3d1",
   "metadata": {},
   "outputs": [
    {
     "name": "stdout",
     "output_type": "stream",
     "text": [
      "Best Hyperparameters:\n",
      "batch_size: 16\n",
      "dropout_rates: (0.2, 0.3, 0.4)\n",
      "hidden_layers: (512, 256, 128)\n",
      "learning_rate: 0.001\n",
      "Best Accuracy: 0.9096666666666666\n",
      "\n",
      "Final Classification Report:\n",
      "              precision    recall  f1-score   support\n",
      "\n",
      "           0       0.83      0.87      0.85      1200\n",
      "           1       0.99      0.99      0.99      1200\n",
      "           2       0.84      0.84      0.84      1200\n",
      "           3       0.92      0.89      0.90      1200\n",
      "           4       0.85      0.83      0.84      1200\n",
      "           5       0.99      0.96      0.98      1200\n",
      "           6       0.74      0.75      0.75      1200\n",
      "           7       0.94      0.97      0.95      1200\n",
      "           8       0.97      0.98      0.97      1200\n",
      "           9       0.97      0.95      0.96      1200\n",
      "\n",
      "    accuracy                           0.90     12000\n",
      "   macro avg       0.90      0.90      0.90     12000\n",
      "weighted avg       0.90      0.90      0.90     12000\n",
      "\n"
     ]
    },
    {
     "data": {
      "text/plain": [
       "<Figure size 1000x800 with 0 Axes>"
      ]
     },
     "metadata": {},
     "output_type": "display_data"
    },
    {
     "data": {
      "image/png": "[encoded data removed]",
      "text/plain": [
       "<Figure size 1500x400 with 1 Axes>"
      ]
     },
     "metadata": {},
     "output_type": "display_data"
    }
   ],
   "source": [
    "import sys\n",
    "sys.path.append('../')\n",
    "import os\n",
    "import gc\n",
    "import numpy as np\n",
    "import pandas as pd\n",
    "import matplotlib.pyplot as plt\n",
    "import torch\n",
    "import torch.nn as nn\n",
    "import torch.nn.functional as F\n",
    "from sklearn.model_selection import train_test_split\n",
    "from sklearn.metrics import confusion_matrix, ConfusionMatrixDisplay, classification_report\n",
    "from torch.utils.data import Dataset, DataLoader\n",
    "from sklearn.preprocessing import StandardScaler\n",
    "from sklearn.model_selection import ParameterGrid\n",
    "\n",
    "\n",
    "# Set random seed for reproducibility\n",
    "RANDOM_STATE = 42\n",
    "\n",
    "# Hyperparameters to tune\n",
    "hyperparameter_grid = {\n",
    "    'learning_rate': [\n",
    "        0.001, \n",
    "        0.0005, \n",
    "    ],\n",
    "    'batch_size': [\n",
    "        16,\n",
    "        32 \n",
    "    ],\n",
    "    'dropout_rates': [\n",
    "        (0.2, 0.3, 0.4),\n",
    "        (0.3, 0.4, 0.5),\n",
    "        (0.1, 0.2, 0.3)\n",
    "    ],\n",
    "    'hidden_layers': [\n",
    "        (392, 196, 98),\n",
    "        (512, 256, 128),\n",
    "        (256, 128, 64)\n",
    "    ]\n",
    "}\n",
    "\n",
    "# Load and preprocess data\n",
    "train_filename = os.path.join('../input', 'fashion_mnist', 'fashion-mnist_train.csv')\n",
    "valid_filename = os.path.join('../input', 'fashion_mnist', 'fashion-mnist_test.csv')\n",
    "\n",
    "train_df = pd.read_csv(train_filename, header=0)\n",
    "valid_df = pd.read_csv(valid_filename, header=0)\n",
    "\n",
    "X = train_df.drop('label', axis=1)\n",
    "y = train_df['label'].to_numpy()\n",
    "\n",
    "# Split the data\n",
    "X_train, X_test, y_train, y_test = train_test_split(X, y, test_size=0.2, stratify=y, random_state=RANDOM_STATE)\n",
    "\n",
    "# Scale the data\n",
    "sc = StandardScaler()\n",
    "X_train = sc.fit_transform(X_train)\n",
    "X_test = sc.transform(X_test)\n",
    "\n",
    "class MnistDataset(Dataset):\n",
    "    def __init__(self, X, y):\n",
    "        super(MnistDataset, self).__init__()\n",
    "        self.X = torch.tensor(X, dtype=torch.float32)\n",
    "        self.y = torch.tensor(y, dtype=torch.long)\n",
    "\n",
    "    def __len__(self):\n",
    "        return len(self.X)\n",
    "\n",
    "    def __getitem__(self, idx):\n",
    "        return self.X[idx], self.y[idx]\n",
    "\n",
    "class ImprovedModel(nn.Module):\n",
    "    def __init__(self, input_dim, hidden_layers, dropout_rates):\n",
    "        super(ImprovedModel, self).__init__()\n",
    "        \n",
    "        self.layers = nn.ModuleList()\n",
    "        prev_layer = input_dim\n",
    "        \n",
    "        for i, (hidden_size, dropout_rate) in enumerate(zip(hidden_layers, dropout_rates)):\n",
    "            # Linear layer\n",
    "            layer = nn.Linear(prev_layer, hidden_size)\n",
    "            self.layers.append(layer)\n",
    "            \n",
    "            # Batch Normalization\n",
    "            self.layers.append(nn.BatchNorm1d(hidden_size))\n",
    "            \n",
    "            # ReLU Activation\n",
    "            self.layers.append(nn.ReLU())\n",
    "            \n",
    "            # Dropout\n",
    "            self.layers.append(nn.Dropout(dropout_rate))\n",
    "            \n",
    "            prev_layer = hidden_size\n",
    "        \n",
    "        # Final classification layer\n",
    "        self.final_layer = nn.Linear(hidden_layers[-1], 10)\n",
    "\n",
    "    def forward(self, x):\n",
    "        for layer in self.layers:\n",
    "            x = layer(x)\n",
    "        x = self.final_layer(x)\n",
    "        return x\n",
    "\n",
    "def train_and_evaluate(params):\n",
    "    \n",
    "    # Unpack hyperparameters\n",
    "    lr = params['learning_rate']\n",
    "    batch_size = params['batch_size']\n",
    "    hidden_layers = params['hidden_layers']\n",
    "    dropout_rates = params['dropout_rates']\n",
    "    \n",
    "    # Prepare DataLoaders\n",
    "    train_dataset = MnistDataset(X_train, y_train)\n",
    "    train_loader = DataLoader(dataset=train_dataset, batch_size=batch_size, shuffle=True)\n",
    "    test_dataset = MnistDataset(X_test, y_test)\n",
    "    test_loader = DataLoader(dataset=test_dataset, batch_size=batch_size, shuffle=False)\n",
    "    \n",
    "    # Determine device\n",
    "    device = 'cuda' if torch.cuda.is_available() else 'cpu'\n",
    "    \n",
    "    # Initialize model\n",
    "    model = ImprovedModel(X_train.shape[1], hidden_layers, dropout_rates).to(device)\n",
    "    \n",
    "    # Loss and Optimizer\n",
    "    loss_fn = nn.CrossEntropyLoss()\n",
    "    optimizer = torch.optim.Adam(model.parameters(), lr=lr)\n",
    "    scheduler = torch.optim.lr_scheduler.ReduceLROnPlateau(optimizer, mode='min', factor=0.1, patience=5, min_lr=1e-5)\n",
    "    \n",
    "    # Training loop \n",
    "    best_test_acc = 0\n",
    "    for epoch in range(100): \n",
    "        model.train()\n",
    "        train_loss, train_acc = 0, 0\n",
    "        \n",
    "        for batch_idx, (train_X, train_y) in enumerate(train_loader):\n",
    "            train_X, train_y = train_X.to(device), train_y.to(device)\n",
    "            \n",
    "            # Forward pass\n",
    "            outputs = model(train_X)\n",
    "            loss = loss_fn(outputs, train_y)\n",
    "            \n",
    "            # Backward pass and optimize\n",
    "            optimizer.zero_grad()\n",
    "            loss.backward()\n",
    "            optimizer.step()\n",
    "            \n",
    "            # Compute training metrics\n",
    "            train_loss += loss.item()\n",
    "            train_acc += (outputs.argmax(1) == train_y).float().mean().item()\n",
    "        \n",
    "        # Validation\n",
    "        model.eval()\n",
    "        test_loss, test_acc = 0, 0\n",
    "        with torch.no_grad():\n",
    "            for test_X, test_y in test_loader:\n",
    "                test_X, test_y = test_X.to(device), test_y.to(device)\n",
    "                outputs = model(test_X)\n",
    "                loss = loss_fn(outputs, test_y)\n",
    "                \n",
    "                test_loss += loss.item()\n",
    "                test_acc += (outputs.argmax(1) == test_y).float().mean().item()\n",
    "        \n",
    "        # Adjust learning rate\n",
    "        scheduler.step(test_loss)\n",
    "        \n",
    "        # Track best model\n",
    "        test_acc /= len(test_loader)\n",
    "        if test_acc > best_test_acc:\n",
    "            best_test_acc = test_acc\n",
    "    \n",
    "    # Clean up\n",
    "    del model, optimizer, scheduler, train_loader, test_loader\n",
    "    \n",
    "    return best_test_acc\n",
    "\n",
    "# Hyperparameter Tuning\n",
    "results = []\n",
    "for params in ParameterGrid(hyperparameter_grid):\n",
    "    accuracy = train_and_evaluate(params)\n",
    "    params['accuracy'] = accuracy\n",
    "    results.append(params)\n",
    "\n",
    "# Find best hyperparameters\n",
    "best_params = max(results, key=lambda x: x['accuracy'])\n",
    "print(\"Best Hyperparameters:\")\n",
    "for key, value in best_params.items():\n",
    "    if key != 'accuracy':\n",
    "        print(f\"{key}: {value}\")\n",
    "print(f\"Best Accuracy: {best_params['accuracy']}\")\n"
   ]
  },
  {
   "cell_type": "code",
   "execution_count": 81,
   "id": "97702e1c",
   "metadata": {},
   "outputs": [
    {
     "data": {
      "text/html": [
       "<div>\n",
       "<style scoped>\n",
       "    .dataframe tbody tr th:only-of-type {\n",
       "        vertical-align: middle;\n",
       "    }\n",
       "\n",
       "    .dataframe tbody tr th {\n",
       "        vertical-align: top;\n",
       "    }\n",
       "\n",
       "    .dataframe thead th {\n",
       "        text-align: right;\n",
       "    }\n",
       "</style>\n",
       "<table border=\"1\" class=\"dataframe\">\n",
       "  <thead>\n",
       "    <tr style=\"text-align: right;\">\n",
       "      <th></th>\n",
       "      <th>batch_size</th>\n",
       "      <th>dropout_rates</th>\n",
       "      <th>hidden_layers</th>\n",
       "      <th>learning_rate</th>\n",
       "      <th>accuracy</th>\n",
       "    </tr>\n",
       "  </thead>\n",
       "  <tbody>\n",
       "    <tr>\n",
       "      <th>0</th>\n",
       "      <td>16</td>\n",
       "      <td>(0.2, 0.3, 0.4)</td>\n",
       "      <td>(392, 196, 98)</td>\n",
       "      <td>0.0010</td>\n",
       "      <td>0.906917</td>\n",
       "    </tr>\n",
       "    <tr>\n",
       "      <th>1</th>\n",
       "      <td>16</td>\n",
       "      <td>(0.2, 0.3, 0.4)</td>\n",
       "      <td>(392, 196, 98)</td>\n",
       "      <td>0.0005</td>\n",
       "      <td>0.906417</td>\n",
       "    </tr>\n",
       "    <tr>\n",
       "      <th>2</th>\n",
       "      <td>16</td>\n",
       "      <td>(0.2, 0.3, 0.4)</td>\n",
       "      <td>(512, 256, 128)</td>\n",
       "      <td>0.0010</td>\n",
       "      <td>0.909667</td>\n",
       "    </tr>\n",
       "    <tr>\n",
       "      <th>3</th>\n",
       "      <td>16</td>\n",
       "      <td>(0.2, 0.3, 0.4)</td>\n",
       "      <td>(512, 256, 128)</td>\n",
       "      <td>0.0005</td>\n",
       "      <td>0.908417</td>\n",
       "    </tr>\n",
       "    <tr>\n",
       "      <th>4</th>\n",
       "      <td>16</td>\n",
       "      <td>(0.2, 0.3, 0.4)</td>\n",
       "      <td>(256, 128, 64)</td>\n",
       "      <td>0.0010</td>\n",
       "      <td>0.901250</td>\n",
       "    </tr>\n",
       "    <tr>\n",
       "      <th>5</th>\n",
       "      <td>16</td>\n",
       "      <td>(0.2, 0.3, 0.4)</td>\n",
       "      <td>(256, 128, 64)</td>\n",
       "      <td>0.0005</td>\n",
       "      <td>0.904250</td>\n",
       "    </tr>\n",
       "    <tr>\n",
       "      <th>6</th>\n",
       "      <td>16</td>\n",
       "      <td>(0.3, 0.4, 0.5)</td>\n",
       "      <td>(392, 196, 98)</td>\n",
       "      <td>0.0010</td>\n",
       "      <td>0.905500</td>\n",
       "    </tr>\n",
       "    <tr>\n",
       "      <th>7</th>\n",
       "      <td>16</td>\n",
       "      <td>(0.3, 0.4, 0.5)</td>\n",
       "      <td>(392, 196, 98)</td>\n",
       "      <td>0.0005</td>\n",
       "      <td>0.904417</td>\n",
       "    </tr>\n",
       "    <tr>\n",
       "      <th>8</th>\n",
       "      <td>16</td>\n",
       "      <td>(0.3, 0.4, 0.5)</td>\n",
       "      <td>(512, 256, 128)</td>\n",
       "      <td>0.0010</td>\n",
       "      <td>0.903750</td>\n",
       "    </tr>\n",
       "    <tr>\n",
       "      <th>9</th>\n",
       "      <td>16</td>\n",
       "      <td>(0.3, 0.4, 0.5)</td>\n",
       "      <td>(512, 256, 128)</td>\n",
       "      <td>0.0005</td>\n",
       "      <td>0.905667</td>\n",
       "    </tr>\n",
       "    <tr>\n",
       "      <th>10</th>\n",
       "      <td>16</td>\n",
       "      <td>(0.3, 0.4, 0.5)</td>\n",
       "      <td>(256, 128, 64)</td>\n",
       "      <td>0.0010</td>\n",
       "      <td>0.901750</td>\n",
       "    </tr>\n",
       "    <tr>\n",
       "      <th>11</th>\n",
       "      <td>16</td>\n",
       "      <td>(0.3, 0.4, 0.5)</td>\n",
       "      <td>(256, 128, 64)</td>\n",
       "      <td>0.0005</td>\n",
       "      <td>0.902333</td>\n",
       "    </tr>\n",
       "    <tr>\n",
       "      <th>12</th>\n",
       "      <td>16</td>\n",
       "      <td>(0.1, 0.2, 0.3)</td>\n",
       "      <td>(392, 196, 98)</td>\n",
       "      <td>0.0010</td>\n",
       "      <td>0.907167</td>\n",
       "    </tr>\n",
       "    <tr>\n",
       "      <th>13</th>\n",
       "      <td>16</td>\n",
       "      <td>(0.1, 0.2, 0.3)</td>\n",
       "      <td>(392, 196, 98)</td>\n",
       "      <td>0.0005</td>\n",
       "      <td>0.907250</td>\n",
       "    </tr>\n",
       "    <tr>\n",
       "      <th>14</th>\n",
       "      <td>16</td>\n",
       "      <td>(0.1, 0.2, 0.3)</td>\n",
       "      <td>(512, 256, 128)</td>\n",
       "      <td>0.0010</td>\n",
       "      <td>0.905667</td>\n",
       "    </tr>\n",
       "    <tr>\n",
       "      <th>15</th>\n",
       "      <td>16</td>\n",
       "      <td>(0.1, 0.2, 0.3)</td>\n",
       "      <td>(512, 256, 128)</td>\n",
       "      <td>0.0005</td>\n",
       "      <td>0.907500</td>\n",
       "    </tr>\n",
       "    <tr>\n",
       "      <th>16</th>\n",
       "      <td>16</td>\n",
       "      <td>(0.1, 0.2, 0.3)</td>\n",
       "      <td>(256, 128, 64)</td>\n",
       "      <td>0.0010</td>\n",
       "      <td>0.906000</td>\n",
       "    </tr>\n",
       "    <tr>\n",
       "      <th>17</th>\n",
       "      <td>16</td>\n",
       "      <td>(0.1, 0.2, 0.3)</td>\n",
       "      <td>(256, 128, 64)</td>\n",
       "      <td>0.0005</td>\n",
       "      <td>0.903667</td>\n",
       "    </tr>\n",
       "    <tr>\n",
       "      <th>18</th>\n",
       "      <td>32</td>\n",
       "      <td>(0.2, 0.3, 0.4)</td>\n",
       "      <td>(392, 196, 98)</td>\n",
       "      <td>0.0010</td>\n",
       "      <td>0.906417</td>\n",
       "    </tr>\n",
       "    <tr>\n",
       "      <th>19</th>\n",
       "      <td>32</td>\n",
       "      <td>(0.2, 0.3, 0.4)</td>\n",
       "      <td>(392, 196, 98)</td>\n",
       "      <td>0.0005</td>\n",
       "      <td>0.904917</td>\n",
       "    </tr>\n",
       "    <tr>\n",
       "      <th>20</th>\n",
       "      <td>32</td>\n",
       "      <td>(0.2, 0.3, 0.4)</td>\n",
       "      <td>(512, 256, 128)</td>\n",
       "      <td>0.0010</td>\n",
       "      <td>0.906500</td>\n",
       "    </tr>\n",
       "    <tr>\n",
       "      <th>21</th>\n",
       "      <td>32</td>\n",
       "      <td>(0.2, 0.3, 0.4)</td>\n",
       "      <td>(512, 256, 128)</td>\n",
       "      <td>0.0005</td>\n",
       "      <td>0.907000</td>\n",
       "    </tr>\n",
       "    <tr>\n",
       "      <th>22</th>\n",
       "      <td>32</td>\n",
       "      <td>(0.2, 0.3, 0.4)</td>\n",
       "      <td>(256, 128, 64)</td>\n",
       "      <td>0.0010</td>\n",
       "      <td>0.907000</td>\n",
       "    </tr>\n",
       "    <tr>\n",
       "      <th>23</th>\n",
       "      <td>32</td>\n",
       "      <td>(0.2, 0.3, 0.4)</td>\n",
       "      <td>(256, 128, 64)</td>\n",
       "      <td>0.0005</td>\n",
       "      <td>0.903917</td>\n",
       "    </tr>\n",
       "    <tr>\n",
       "      <th>24</th>\n",
       "      <td>32</td>\n",
       "      <td>(0.3, 0.4, 0.5)</td>\n",
       "      <td>(392, 196, 98)</td>\n",
       "      <td>0.0010</td>\n",
       "      <td>0.905833</td>\n",
       "    </tr>\n",
       "    <tr>\n",
       "      <th>25</th>\n",
       "      <td>32</td>\n",
       "      <td>(0.3, 0.4, 0.5)</td>\n",
       "      <td>(392, 196, 98)</td>\n",
       "      <td>0.0005</td>\n",
       "      <td>0.906417</td>\n",
       "    </tr>\n",
       "    <tr>\n",
       "      <th>26</th>\n",
       "      <td>32</td>\n",
       "      <td>(0.3, 0.4, 0.5)</td>\n",
       "      <td>(512, 256, 128)</td>\n",
       "      <td>0.0010</td>\n",
       "      <td>0.908333</td>\n",
       "    </tr>\n",
       "    <tr>\n",
       "      <th>27</th>\n",
       "      <td>32</td>\n",
       "      <td>(0.3, 0.4, 0.5)</td>\n",
       "      <td>(512, 256, 128)</td>\n",
       "      <td>0.0005</td>\n",
       "      <td>0.905083</td>\n",
       "    </tr>\n",
       "    <tr>\n",
       "      <th>28</th>\n",
       "      <td>32</td>\n",
       "      <td>(0.3, 0.4, 0.5)</td>\n",
       "      <td>(256, 128, 64)</td>\n",
       "      <td>0.0010</td>\n",
       "      <td>0.901500</td>\n",
       "    </tr>\n",
       "    <tr>\n",
       "      <th>29</th>\n",
       "      <td>32</td>\n",
       "      <td>(0.3, 0.4, 0.5)</td>\n",
       "      <td>(256, 128, 64)</td>\n",
       "      <td>0.0005</td>\n",
       "      <td>0.902333</td>\n",
       "    </tr>\n",
       "    <tr>\n",
       "      <th>30</th>\n",
       "      <td>32</td>\n",
       "      <td>(0.1, 0.2, 0.3)</td>\n",
       "      <td>(392, 196, 98)</td>\n",
       "      <td>0.0010</td>\n",
       "      <td>0.905917</td>\n",
       "    </tr>\n",
       "    <tr>\n",
       "      <th>31</th>\n",
       "      <td>32</td>\n",
       "      <td>(0.1, 0.2, 0.3)</td>\n",
       "      <td>(392, 196, 98)</td>\n",
       "      <td>0.0005</td>\n",
       "      <td>0.905000</td>\n",
       "    </tr>\n",
       "    <tr>\n",
       "      <th>32</th>\n",
       "      <td>32</td>\n",
       "      <td>(0.1, 0.2, 0.3)</td>\n",
       "      <td>(512, 256, 128)</td>\n",
       "      <td>0.0010</td>\n",
       "      <td>0.908083</td>\n",
       "    </tr>\n",
       "    <tr>\n",
       "      <th>33</th>\n",
       "      <td>32</td>\n",
       "      <td>(0.1, 0.2, 0.3)</td>\n",
       "      <td>(512, 256, 128)</td>\n",
       "      <td>0.0005</td>\n",
       "      <td>0.907000</td>\n",
       "    </tr>\n",
       "    <tr>\n",
       "      <th>34</th>\n",
       "      <td>32</td>\n",
       "      <td>(0.1, 0.2, 0.3)</td>\n",
       "      <td>(256, 128, 64)</td>\n",
       "      <td>0.0010</td>\n",
       "      <td>0.906417</td>\n",
       "    </tr>\n",
       "    <tr>\n",
       "      <th>35</th>\n",
       "      <td>32</td>\n",
       "      <td>(0.1, 0.2, 0.3)</td>\n",
       "      <td>(256, 128, 64)</td>\n",
       "      <td>0.0005</td>\n",
       "      <td>0.905167</td>\n",
       "    </tr>\n",
       "  </tbody>\n",
       "</table>\n",
       "</div>"
      ],
      "text/plain": [
       "    batch_size    dropout_rates    hidden_layers  learning_rate  accuracy\n",
       "0           16  (0.2, 0.3, 0.4)   (392, 196, 98)         0.0010  0.906917\n",
       "1           16  (0.2, 0.3, 0.4)   (392, 196, 98)         0.0005  0.906417\n",
       "2           16  (0.2, 0.3, 0.4)  (512, 256, 128)         0.0010  0.909667\n",
       "3           16  (0.2, 0.3, 0.4)  (512, 256, 128)         0.0005  0.908417\n",
       "4           16  (0.2, 0.3, 0.4)   (256, 128, 64)         0.0010  0.901250\n",
       "5           16  (0.2, 0.3, 0.4)   (256, 128, 64)         0.0005  0.904250\n",
       "6           16  (0.3, 0.4, 0.5)   (392, 196, 98)         0.0010  0.905500\n",
       "7           16  (0.3, 0.4, 0.5)   (392, 196, 98)         0.0005  0.904417\n",
       "8           16  (0.3, 0.4, 0.5)  (512, 256, 128)         0.0010  0.903750\n",
       "9           16  (0.3, 0.4, 0.5)  (512, 256, 128)         0.0005  0.905667\n",
       "10          16  (0.3, 0.4, 0.5)   (256, 128, 64)         0.0010  0.901750\n",
       "11          16  (0.3, 0.4, 0.5)   (256, 128, 64)         0.0005  0.902333\n",
       "12          16  (0.1, 0.2, 0.3)   (392, 196, 98)         0.0010  0.907167\n",
       "13          16  (0.1, 0.2, 0.3)   (392, 196, 98)         0.0005  0.907250\n",
       "14          16  (0.1, 0.2, 0.3)  (512, 256, 128)         0.0010  0.905667\n",
       "15          16  (0.1, 0.2, 0.3)  (512, 256, 128)         0.0005  0.907500\n",
       "16          16  (0.1, 0.2, 0.3)   (256, 128, 64)         0.0010  0.906000\n",
       "17          16  (0.1, 0.2, 0.3)   (256, 128, 64)         0.0005  0.903667\n",
       "18          32  (0.2, 0.3, 0.4)   (392, 196, 98)         0.0010  0.906417\n",
       "19          32  (0.2, 0.3, 0.4)   (392, 196, 98)         0.0005  0.904917\n",
       "20          32  (0.2, 0.3, 0.4)  (512, 256, 128)         0.0010  0.906500\n",
       "21          32  (0.2, 0.3, 0.4)  (512, 256, 128)         0.0005  0.907000\n",
       "22          32  (0.2, 0.3, 0.4)   (256, 128, 64)         0.0010  0.907000\n",
       "23          32  (0.2, 0.3, 0.4)   (256, 128, 64)         0.0005  0.903917\n",
       "24          32  (0.3, 0.4, 0.5)   (392, 196, 98)         0.0010  0.905833\n",
       "25          32  (0.3, 0.4, 0.5)   (392, 196, 98)         0.0005  0.906417\n",
       "26          32  (0.3, 0.4, 0.5)  (512, 256, 128)         0.0010  0.908333\n",
       "27          32  (0.3, 0.4, 0.5)  (512, 256, 128)         0.0005  0.905083\n",
       "28          32  (0.3, 0.4, 0.5)   (256, 128, 64)         0.0010  0.901500\n",
       "29          32  (0.3, 0.4, 0.5)   (256, 128, 64)         0.0005  0.902333\n",
       "30          32  (0.1, 0.2, 0.3)   (392, 196, 98)         0.0010  0.905917\n",
       "31          32  (0.1, 0.2, 0.3)   (392, 196, 98)         0.0005  0.905000\n",
       "32          32  (0.1, 0.2, 0.3)  (512, 256, 128)         0.0010  0.908083\n",
       "33          32  (0.1, 0.2, 0.3)  (512, 256, 128)         0.0005  0.907000\n",
       "34          32  (0.1, 0.2, 0.3)   (256, 128, 64)         0.0010  0.906417\n",
       "35          32  (0.1, 0.2, 0.3)   (256, 128, 64)         0.0005  0.905167"
      ]
     },
     "execution_count": 81,
     "metadata": {},
     "output_type": "execute_result"
    }
   ],
   "source": [
    "pd.DataFrame(results)"
   ]
  },
  {
   "cell_type": "code",
   "execution_count": 80,
   "id": "03217301",
   "metadata": {},
   "outputs": [
    {
     "name": "stdout",
     "output_type": "stream",
     "text": [
      "Epoch: 0 | Loss: 0.63214/0.40057 | Accuracy: 0.78221/0.85133\n",
      "Epoch: 10 | Loss: 0.32279/0.29362 | Accuracy: 0.88229/0.88992\n",
      "Epoch: 20 | Loss: 0.26285/0.28635 | Accuracy: 0.90454/0.89775\n",
      "Epoch: 30 | Loss: 0.19181/0.27672 | Accuracy: 0.92908/0.90283\n",
      "Epoch: 40 | Loss: 0.16850/0.28267 | Accuracy: 0.93829/0.90417\n",
      "Epoch: 50 | Loss: 0.16309/0.28409 | Accuracy: 0.93929/0.90492\n",
      "Epoch: 60 | Loss: 0.16301/0.28312 | Accuracy: 0.93958/0.90517\n",
      "Epoch: 70 | Loss: 0.16399/0.28356 | Accuracy: 0.93921/0.90617\n",
      "Epoch: 80 | Loss: 0.15877/0.28530 | Accuracy: 0.94244/0.90333\n",
      "Epoch: 90 | Loss: 0.15836/0.28771 | Accuracy: 0.94027/0.90608\n",
      "Epoch: 100 | Loss: 0.15774/0.28908 | Accuracy: 0.94127/0.90658\n",
      "Epoch: 110 | Loss: 0.15884/0.28895 | Accuracy: 0.94012/0.90583\n",
      "Epoch: 120 | Loss: 0.15481/0.28738 | Accuracy: 0.94288/0.90483\n",
      "Epoch: 130 | Loss: 0.15552/0.28995 | Accuracy: 0.94312/0.90508\n",
      "Epoch: 140 | Loss: 0.15352/0.28721 | Accuracy: 0.94390/0.90542\n",
      "Epoch: 150 | Loss: 0.14960/0.28729 | Accuracy: 0.94427/0.90700\n",
      "Epoch: 160 | Loss: 0.15470/0.28854 | Accuracy: 0.94358/0.90508\n",
      "Epoch: 170 | Loss: 0.15095/0.29150 | Accuracy: 0.94452/0.90517\n",
      "Epoch: 180 | Loss: 0.14990/0.29292 | Accuracy: 0.94433/0.90550\n",
      "Epoch: 190 | Loss: 0.14629/0.29959 | Accuracy: 0.94602/0.90583\n",
      "\n",
      "Final Classification Report:\n",
      "              precision    recall  f1-score   support\n",
      "\n",
      "           0       0.85      0.87      0.86      1200\n",
      "           1       0.99      0.99      0.99      1200\n",
      "           2       0.83      0.84      0.83      1200\n",
      "           3       0.92      0.91      0.92      1200\n",
      "           4       0.85      0.84      0.84      1200\n",
      "           5       0.98      0.97      0.98      1200\n",
      "           6       0.76      0.74      0.75      1200\n",
      "           7       0.94      0.95      0.95      1200\n",
      "           8       0.98      0.97      0.97      1200\n",
      "           9       0.96      0.95      0.96      1200\n",
      "\n",
      "    accuracy                           0.90     12000\n",
      "   macro avg       0.90      0.90      0.90     12000\n",
      "weighted avg       0.90      0.90      0.90     12000\n",
      "\n"
     ]
    },
    {
     "data": {
      "image/png": "[encoded data removed]",
      "text/plain": [
       "<Figure size 1500x600 with 2 Axes>"
      ]
     },
     "metadata": {},
     "output_type": "display_data"
    },
    {
     "data": {
      "text/plain": [
       "<Figure size 1000x800 with 0 Axes>"
      ]
     },
     "metadata": {},
     "output_type": "display_data"
    },
    {
     "data": {
      "image/png": "[encoded data removed]",
      "text/plain": [
       "<Figure size 1500x400 with 1 Axes>"
      ]
     },
     "metadata": {},
     "output_type": "display_data"
    }
   ],
   "source": [
    "\n",
    "# Prepare DataLoaders with best params\n",
    "train_dataset = MnistDataset(X_train, y_train)\n",
    "train_loader = DataLoader(dataset=train_dataset, batch_size=best_params['batch_size'], shuffle=True)\n",
    "test_dataset = MnistDataset(X_test, y_test)\n",
    "test_loader = DataLoader(dataset=test_dataset, batch_size=best_params['batch_size'], shuffle=False)\n",
    "\n",
    "# Determine device\n",
    "device = 'cuda' if torch.cuda.is_available() else 'cpu'\n",
    "\n",
    "# Initialize model with best hyperparameters\n",
    "model = ImprovedModel(\n",
    "    X_train.shape[1], \n",
    "    best_params['hidden_layers'], \n",
    "    best_params['dropout_rates']\n",
    ").to(device)\n",
    "\n",
    "# Loss and Optimizer\n",
    "loss_fn = nn.CrossEntropyLoss()\n",
    "optimizer = torch.optim.Adam(model.parameters(), lr=best_params['learning_rate'])\n",
    "scheduler = torch.optim.lr_scheduler.ReduceLROnPlateau(optimizer, mode='min', factor=0.1, patience=5, min_lr=1e-5)\n",
    "\n",
    "# Tracking variables\n",
    "loss, tloss, n_epoch, acc, tacc = [], [], [], [], []\n",
    "\n",
    "for epoch in range(200):\n",
    "    # Training phase\n",
    "    model.train()\n",
    "    epoch_loss, epoch_acc = 0, 0\n",
    "    for batch_idx, (train_X, train_y) in enumerate(train_loader):\n",
    "        train_X, train_y = train_X.to(device), train_y.to(device)\n",
    "        \n",
    "        # Forward pass\n",
    "        predict_proba = model(train_X)\n",
    "        batch_loss = loss_fn(predict_proba, train_y)\n",
    "        \n",
    "        # Backward pass\n",
    "        optimizer.zero_grad()\n",
    "        batch_loss.backward()\n",
    "        optimizer.step()\n",
    "        \n",
    "        # Compute training metrics\n",
    "        epoch_loss += batch_loss.item()\n",
    "        y_pred = predict_proba.argmax(dim=1)\n",
    "        epoch_acc += (y_pred == train_y).float().mean().item()\n",
    "    \n",
    "    # Normalize epoch metrics\n",
    "    epoch_loss /= len(train_loader)\n",
    "    epoch_acc /= len(train_loader)\n",
    "    loss.append(epoch_loss)\n",
    "    acc.append(epoch_acc)\n",
    "    \n",
    "    # Validation phase\n",
    "    model.eval()\n",
    "    test_loss, test_acc = 0, 0\n",
    "    with torch.no_grad():\n",
    "        for batch_X, batch_y in test_loader:\n",
    "            batch_X, batch_y = batch_X.to(device), batch_y.to(device)\n",
    "            outputs = model(batch_X)\n",
    "            batch_loss = loss_fn(outputs, batch_y)\n",
    "            \n",
    "            test_loss += batch_loss.item()\n",
    "            test_acc += (outputs.argmax(1) == batch_y).float().mean().item()\n",
    "    \n",
    "    # Normalize test metrics\n",
    "    test_loss /= len(test_loader)\n",
    "    test_acc /= len(test_loader)\n",
    "    tloss.append(test_loss)\n",
    "    tacc.append(test_acc)\n",
    "    n_epoch.append(epoch)\n",
    "    \n",
    "    # Step the scheduler\n",
    "    scheduler.step(test_loss)\n",
    "    \n",
    "    # Print progress\n",
    "    if epoch % 10 == 0:\n",
    "        print(f'Epoch: {epoch} | Loss: {epoch_loss:.5f}/{test_loss:.5f} | Accuracy: {epoch_acc:.5f}/{test_acc:.5f}')\n",
    "\n",
    "# Create DataFrame for plotting\n",
    "loss_df = pd.DataFrame({\n",
    "    'epoch': n_epoch, \n",
    "    'loss': loss, \n",
    "    'test_loss': tloss, \n",
    "    'acc': acc, \n",
    "    'test_acc': tacc\n",
    "})\n",
    "\n",
    "# Call the plotting function\n",
    "fn_plot_torch_hist(hist_df=loss_df)\n",
    "\n",
    "# Evaluation\n",
    "model.eval()\n",
    "y_pred = []\n",
    "with torch.no_grad():\n",
    "    for batch_X, _ in test_loader:\n",
    "        batch_X = batch_X.to(device)\n",
    "        outputs = model(batch_X)\n",
    "        y_pred.extend(outputs.argmax(1).cpu().numpy())\n",
    "\n",
    "# Compute full metrics\n",
    "print(\"\\nFinal Classification Report:\")\n",
    "print(classification_report(y_test, y_pred))\n",
    "\n",
    "# Confusion Matrix\n",
    "cm = confusion_matrix(y_test, y_pred)\n",
    "disp = ConfusionMatrixDisplay(confusion_matrix=cm, display_labels=[str(i) for i in range(10)])\n",
    "plt.figure(figsize=(10, 8))\n",
    "disp.plot(cmap='Blues', xticks_rotation='vertical', colorbar=False)\n",
    "plt.title(\"Confusion Matrix - Fashion MNIST\")\n",
    "plt.tight_layout()\n",
    "plt.show()\n"
   ]
  }
 ],
 "metadata": {
  "kernelspec": {
   "display_name": "pythonProject",
   "language": "python",
   "name": "python3"
  },
  "language_info": {
   "codemirror_mode": {
    "name": "ipython",
    "version": 3
   },
   "file_extension": ".py",
   "mimetype": "text/x-python",
   "name": "python",
   "nbconvert_exporter": "python",
   "pygments_lexer": "ipython3",
   "version": "3.12.4"
  }
 },
 "nbformat": 4,
 "nbformat_minor": 5
}
