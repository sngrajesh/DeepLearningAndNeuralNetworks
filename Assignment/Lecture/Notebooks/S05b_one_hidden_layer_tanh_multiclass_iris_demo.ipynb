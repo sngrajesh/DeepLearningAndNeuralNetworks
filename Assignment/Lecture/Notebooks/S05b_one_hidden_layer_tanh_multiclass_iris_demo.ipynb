{
 "cells": [
  {
   "cell_type": "code",
   "execution_count": 1,
   "metadata": {
    "id": "kFZRpLpK02pB"
   },
   "outputs": [],
   "source": [
    "#!/usr/bin/env python\n",
    "# -*- coding: utf-8 -*-"
   ]
  },
  {
   "cell_type": "markdown",
   "metadata": {
    "id": "deSnZmVy02pF"
   },
   "source": [
    "# Deep Neural Networks\n",
    "\n",
    "## Session 05b\n",
    "### Demo Neural Network with :\n",
    "- One hidden layer \n",
    "- ${Tanh}$ activation function\n",
    "- multi-class (**Iris Dataset**)\n",
    "\n",
    "<img src='../../prasami_images/prasami_color_tutorials_small.png' width='400' alt=\"By Pramod Sharma : pramod.sharma@prasami.com\" align=\"left\"/>"
   ]
  },
  {
   "cell_type": "code",
   "execution_count": 2,
   "metadata": {
    "id": "rt0pfyeA02pK"
   },
   "outputs": [],
   "source": [
    "###-----------------\n",
    "### Import Libraries\n",
    "###-----------------\n",
    "\n",
    "import os\n",
    "import numpy as np\n",
    "import pandas as pd\n",
    "import matplotlib.pyplot as plt\n",
    "\n",
    "from collections.abc import Callable\n",
    "from typing import Literal\n",
    "\n",
    "from sklearn import datasets\n",
    "from sklearn.model_selection import train_test_split\n",
    "from sklearn.metrics import accuracy_score, confusion_matrix, classification_report, ConfusionMatrixDisplay\n",
    "from sklearn.preprocessing import StandardScaler\n",
    "from sklearn.discriminant_analysis import LinearDiscriminantAnalysis\n",
    "\n",
    "%matplotlib inline"
   ]
  },
  {
   "cell_type": "code",
   "execution_count": 3,
   "metadata": {
    "id": "__T9cczP02pL"
   },
   "outputs": [],
   "source": [
    "###----------------\n",
    "### Some parameters\n",
    "###----------------\n",
    "\n",
    "inpDir = '../input'\n",
    "outDir = '../output'\n",
    "\n",
    "RANDOM_STATE = 24 # REMEMBER: to remove at the time of promotion to production\n",
    "np.random.seed(RANDOM_STATE) # Set Random Seed for reproducible  results\n",
    "\n",
    "EPOCHS = 20001 # number of epochs\n",
    "ALPHA = 0.1 # learning rate\n",
    "NUM_SAMPLES = 1280 # How many samples we want to generate \n",
    "NOISE = 0.2 # Noise to be introduced in the data\n",
    "TEST_SIZE = 0.2\n",
    "\n",
    "# parameters for Matplotlib\n",
    "params = {'legend.fontsize': 'large',\n",
    "          'figure.figsize': (15, 6),\n",
    "          'axes.labelsize': 'large',\n",
    "          'axes.titlesize':'large',\n",
    "          'xtick.labelsize':'medium',\n",
    "          'ytick.labelsize':'medium'\n",
    "         }\n",
    "\n",
    "CMAP = 'coolwarm' # plt.cm.Spectral\n",
    "\n",
    "plt.rcParams.update(params)"
   ]
  },
  {
   "cell_type": "markdown",
   "metadata": {
    "id": "7bhVN20X02pN"
   },
   "source": [
    "## Generate Data Set\n",
    "<p style=\"font-family: Arial; font-size:1.1em\">\n",
    "Use Sklearn's dataset generator <a href=\"https://scikit-learn.org/stable/auto_examples/datasets/plot_iris_dataset.html\">Iris</a>.\n",
    "</p>"
   ]
  },
  {
   "cell_type": "code",
   "execution_count": 4,
   "metadata": {
    "id": "LXZ37P4G02pP"
   },
   "outputs": [],
   "source": [
    "# loading Dataset\n",
    "iris = datasets.load_iris()\n",
    "\n",
    "# Create features 'X' and labels 'y'\n",
    "X = iris.data\n",
    "y = iris.target\n",
    "\n",
    "# Dimentionality reductions are sensitive to scale\n",
    "X_scaled = StandardScaler().fit_transform(X)\n",
    "\n",
    "lda = LinearDiscriminantAnalysis(n_components=2)\n",
    "X_r2 = lda.fit_transform(X_scaled, y)\n",
    "\n",
    "# get the label Names as well\n",
    "target_names = iris.target_names"
   ]
  },
  {
   "cell_type": "code",
   "execution_count": 5,
   "metadata": {
    "scrolled": true
   },
   "outputs": [
    {
     "name": "stdout",
     "output_type": "stream",
     "text": [
      ".. _iris_dataset:\n",
      "\n",
      "Iris plants dataset\n",
      "--------------------\n",
      "\n",
      "**Data Set Characteristics:**\n",
      "\n",
      ":Number of Instances: 150 (50 in each of three classes)\n",
      ":Number of Attributes: 4 numeric, predictive attributes and the class\n",
      ":Attribute Information:\n",
      "    - sepal length in cm\n",
      "    - sepal width in cm\n",
      "    - petal length in cm\n",
      "    - petal width in cm\n",
      "    - class:\n",
      "            - Iris-Setosa\n",
      "            - Iris-Versicolour\n",
      "            - Iris-Virginica\n",
      "\n",
      ":Summary Statistics:\n",
      "\n",
      "============== ==== ==== ======= ===== ====================\n",
      "                Min  Max   Mean    SD   Class Correlation\n",
      "============== ==== ==== ======= ===== ====================\n",
      "sepal length:   4.3  7.9   5.84   0.83    0.7826\n",
      "sepal width:    2.0  4.4   3.05   0.43   -0.4194\n",
      "petal length:   1.0  6.9   3.76   1.76    0.9490  (high!)\n",
      "petal width:    0.1  2.5   1.20   0.76    0.9565  (high!)\n",
      "============== ==== ==== ======= ===== ====================\n",
      "\n",
      ":Missing Attribute Values: None\n",
      ":Class Distribution: 33.3% for each of 3 classes.\n",
      ":Creator: R.A. Fisher\n",
      ":Donor: Michael Marshall (MARSHALL%PLU@io.arc.nasa.gov)\n",
      ":Date: July, 1988\n",
      "\n",
      "The famous Iris database, first used by Sir R.A. Fisher. The dataset is taken\n",
      "from Fisher's paper. Note that it's the same as in R, but not as in the UCI\n",
      "Machine Learning Repository, which has two wrong data points.\n",
      "\n",
      "This is perhaps the best known database to be found in the\n",
      "pattern recognition literature.  Fisher's paper is a classic in the field and\n",
      "is referenced frequently to this day.  (See Duda & Hart, for example.)  The\n",
      "data set contains 3 classes of 50 instances each, where each class refers to a\n",
      "type of iris plant.  One class is linearly separable from the other 2; the\n",
      "latter are NOT linearly separable from each other.\n",
      "\n",
      ".. dropdown:: References\n",
      "\n",
      "  - Fisher, R.A. \"The use of multiple measurements in taxonomic problems\"\n",
      "    Annual Eugenics, 7, Part II, 179-188 (1936); also in \"Contributions to\n",
      "    Mathematical Statistics\" (John Wiley, NY, 1950).\n",
      "  - Duda, R.O., & Hart, P.E. (1973) Pattern Classification and Scene Analysis.\n",
      "    (Q327.D83) John Wiley & Sons.  ISBN 0-471-22361-1.  See page 218.\n",
      "  - Dasarathy, B.V. (1980) \"Nosing Around the Neighborhood: A New System\n",
      "    Structure and Classification Rule for Recognition in Partially Exposed\n",
      "    Environments\".  IEEE Transactions on Pattern Analysis and Machine\n",
      "    Intelligence, Vol. PAMI-2, No. 1, 67-71.\n",
      "  - Gates, G.W. (1972) \"The Reduced Nearest Neighbor Rule\".  IEEE Transactions\n",
      "    on Information Theory, May 1972, 431-433.\n",
      "  - See also: 1988 MLC Proceedings, 54-64.  Cheeseman et al\"s AUTOCLASS II\n",
      "    conceptual clustering system finds 3 classes in the data.\n",
      "  - Many, many more ...\n",
      "\n"
     ]
    }
   ],
   "source": [
    "print(iris.DESCR)"
   ]
  },
  {
   "cell_type": "code",
   "execution_count": 6,
   "metadata": {
    "colab": {
     "base_uri": "https://localhost:8080/",
     "height": 596
    },
    "id": "PWMWQKQ702pQ",
    "outputId": "80ccd743-533a-4a5d-c009-9318021035a1"
   },
   "outputs": [
    {
     "data": {
      "image/png": "[encoded data removed]",
      "text/plain": [
       "<Figure size 1500x600 with 1 Axes>"
      ]
     },
     "metadata": {},
     "output_type": "display_data"
    }
   ],
   "source": [
    "# Lets Plot the data\n",
    "plt.scatter(X_r2[:,0], X_r2[:,1], s=40, c=y)\n",
    "\n",
    "plt.grid()"
   ]
  },
  {
   "cell_type": "code",
   "execution_count": 7,
   "metadata": {
    "scrolled": true
   },
   "outputs": [
    {
     "data": {
      "text/plain": [
       "(150, 3)"
      ]
     },
     "execution_count": 7,
     "metadata": {},
     "output_type": "execute_result"
    }
   ],
   "source": [
    "###############################\n",
    "### Make it multi-class data ###\n",
    "###############################\n",
    "\n",
    "y = pd.get_dummies(y).to_numpy()\n",
    "y.shape"
   ]
  },
  {
   "cell_type": "code",
   "execution_count": 8,
   "metadata": {},
   "outputs": [
    {
     "data": {
      "text/plain": [
       "array([[ True, False, False],\n",
       "       [ True, False, False],\n",
       "       [ True, False, False],\n",
       "       [ True, False, False],\n",
       "       [ True, False, False]])"
      ]
     },
     "execution_count": 8,
     "metadata": {},
     "output_type": "execute_result"
    }
   ],
   "source": [
    "y[:5]"
   ]
  },
  {
   "cell_type": "code",
   "execution_count": 9,
   "metadata": {
    "colab": {
     "base_uri": "https://localhost:8080/"
    },
    "id": "ScVfbKXN02pT",
    "outputId": "b357d89b-6dbf-49f4-847b-174fcee65ef3"
   },
   "outputs": [
    {
     "name": "stdout",
     "output_type": "stream",
     "text": [
      "(120, 4) (120, 3) (30, 4) (30, 3)\n"
     ]
    }
   ],
   "source": [
    "#  Split the data in training and test sets to measure performance of the model.\n",
    "X_train, X_test, y_train, y_test = train_test_split(X, y, \n",
    "                                                    stratify=y,\n",
    "                                                    test_size=TEST_SIZE, \n",
    "                                                    random_state=RANDOM_STATE )\n",
    "\n",
    "print (X_train.shape, y_train.shape, X_test.shape, y_test.shape)"
   ]
  },
  {
   "cell_type": "code",
   "execution_count": 10,
   "metadata": {},
   "outputs": [],
   "source": [
    "# Networks are sensitive to scale\n",
    "sc = StandardScaler()\n",
    "X_train = sc.fit_transform(X_train)\n",
    "X_test = sc.transform(X_test)"
   ]
  },
  {
   "cell_type": "markdown",
   "metadata": {
    "id": "c7w9j7Yo02pX"
   },
   "source": [
    "## Neural Network\n",
    "\n",
    "Let's start with simple network. Our data has **four** features. Hence size of input layer will also be four. Lets code our output as three classes. The hidden layer could be of **any size**. "
   ]
  },
  {
   "cell_type": "markdown",
   "metadata": {
    "id": "TV2hxN-702pX"
   },
   "source": [
    "We will be using $\\tanh$ function for layer 1 (hidden layer) as it fits in majority of cases and its derivative can simply be represented as 1 -$\\tanh^2(z_1)$. Our output is multi-class. We will change our activation function to $\\text{Softmax}$ from $\\text{Sigmoid}$ in the last layer."
   ]
  },
  {
   "cell_type": "markdown",
   "metadata": {
    "id": "HnyzmhlK02pY"
   },
   "source": [
    "## Activation Functions\n",
    "\n",
    "### Softmax Function\n",
    "Activation function to work with multi-class problems\n",
    "\n",
    "$\\sigma(z_i) = \\dfrac{e^{z_i}}{\\sum_{j=1}^{K}e^{z_j}}$\n"
   ]
  },
  {
   "cell_type": "code",
   "execution_count": 11,
   "metadata": {
    "id": "I5prCl_I02pZ"
   },
   "outputs": [],
   "source": [
    "def fn_softmax(z : np.ndarray) -> np.ndarray:\n",
    "    '''\n",
    "        Args:\n",
    "           z : array, Aggregated values \n",
    "       Return:\n",
    "           probs. of each class\n",
    "    '''\n",
    "    \n",
    "    exp_sc = np.exp(z)\n",
    "    \n",
    "    return exp_sc / np.sum( exp_sc, axis = 1, keepdims= True)    "
   ]
  },
  {
   "cell_type": "code",
   "execution_count": 12,
   "metadata": {
    "colab": {
     "base_uri": "https://localhost:8080/"
    },
    "id": "iB-FU1yD02pa",
    "outputId": "d9bc602a-09be-4642-f0a9-ded12a831850"
   },
   "outputs": [
    {
     "name": "stdout",
     "output_type": "stream",
     "text": [
      "[[9.52269826e-01 4.74107229e-02 3.19450938e-04]\n",
      " [2.06106005e-09 4.53978686e-05 9.99954600e-01]] \n",
      "\n",
      "Total of all values [1. 1.]\n"
     ]
    }
   ],
   "source": [
    "sm = fn_softmax(np.asarray([[8, 5, 0], [-10, 0., 10]]))\n",
    "print (sm, '\\n\\nTotal of all values', sm.sum(axis = 1))"
   ]
  },
  {
   "cell_type": "markdown",
   "metadata": {},
   "source": [
    "### Other Activation Function\n",
    "Keep tanh Function for hidden layer"
   ]
  },
  {
   "cell_type": "code",
   "execution_count": 13,
   "metadata": {
    "id": "exufhbJE02pb"
   },
   "outputs": [],
   "source": [
    "def fn_activ(x: np.ndarray)-> np.ndarray:\n",
    "\n",
    "    return np.tanh(x)\n",
    "\n",
    "def fn_activ_prime(x: np.ndarray)-> np.ndarray:\n",
    "\n",
    "    return 1.0 - np.tanh(x)**2"
   ]
  },
  {
   "cell_type": "markdown",
   "metadata": {
    "id": "t0LlxhWX02pe"
   },
   "source": [
    "## Loss Function\n",
    "### Loss function will change for Multiclass\n",
    "\n",
    "We need to minimize the error by adjusting ($Ws, bs$). We call the function that measures our error the <b>loss function</b>. A common choice with the sigmoid output is the cross-entropy loss. The loss for predictions $\\hat{y}$ with respect to the true labels $y$ is given by:\n",
    "\n",
    "$\n",
    "\\begin{aligned}\n",
    "L(\\hat{y_i}, y_i) =  -[y_i.log\\hat{y_i} + (1 - y_i) . log(1-\\hat{y_i})]\n",
    "\\end{aligned}\n",
    "$\n",
    "\n",
    "For all samples:\n",
    "\n",
    "$\n",
    "\\begin{aligned}\n",
    "J(\\hat{y}, y) =  -\\frac{1}{m}\\sum_{i=1}^{m}[y_i.log\\hat{y}_i + (1-y_i) . log(1-\\hat{y}_i)]\n",
    "\\end{aligned}\n",
    "$\n",
    "\n",
    "\n",
    "We can use gradient descent to find its minimum. For purpose of this Session, let's use it in its simplest form - <b>batch gradient descent with fixed learning rate</b>."
   ]
  },
  {
   "cell_type": "markdown",
   "metadata": {
    "id": "nyCFgmBx02pf"
   },
   "source": [
    "### Loss Function"
   ]
  },
  {
   "cell_type": "code",
   "execution_count": 14,
   "metadata": {
    "id": "YcH2EYDw02pf"
   },
   "outputs": [],
   "source": [
    "# function to evaluate the total loss on the dataset\n",
    "\n",
    "def calculate_loss(model : dict, X: np.ndarray, y: np.ndarray) -> np.float64:\n",
    "    '''\n",
    "    Args:\n",
    "        model: dictionay object containing weights and biases\n",
    "        X: Feature Matrix\n",
    "        y: Labels array\n",
    "    Returns:\n",
    "        Average loss\n",
    "    '''\n",
    "    \n",
    "    # extract weights and biases from the model\n",
    "    W1, b1, W2, b2 = model['W1'], model['b1'], model['W2'], model['b2']\n",
    "    \n",
    "    # number of examples\n",
    "    m = X.shape[0]\n",
    "    \n",
    "    # Forward propagation to calculate our predictions\n",
    "    # Layer 1\n",
    "    z1 = X.dot(W1) + b1\n",
    "    \n",
    "    # Activation\n",
    "    a1 = fn_activ(z1)\n",
    "    \n",
    "    # Layer 2\n",
    "    z2 = a1.dot(W2) + b2\n",
    "    \n",
    "    ###############################\n",
    "    ### Changes for multi class ###\n",
    "    ###############################   \n",
    "    # sigmoid  activation\n",
    "    a2 = fn_softmax(z2)\n",
    "\n",
    "\n",
    "    # Calculating the loss\n",
    "    data_loss = -(y * np.log(a2) + (1 - y) * np.log(1 - a2)).sum() \n",
    "\n",
    "    return 1./m * data_loss"
   ]
  },
  {
   "cell_type": "markdown",
   "metadata": {
    "id": "Ts1K_8ry02pg"
   },
   "source": [
    "## Predict Function\n",
    "\n",
    "For predictions, we will simply be using the forward propagation."
   ]
  },
  {
   "cell_type": "code",
   "execution_count": 15,
   "metadata": {
    "id": "jKgB1fF002pg"
   },
   "outputs": [],
   "source": [
    "# Helper function to predict an output (0 or 1)\n",
    "\n",
    "def predict(model : dict, X: np.ndarray) -> np.ndarray:\n",
    "    '''\n",
    "     Args:\n",
    "         model\n",
    "         X: input features\n",
    "    Returns:\n",
    "        Predictions against the instances\n",
    "         \n",
    "    '''\n",
    "    W1, b1, W2, b2 = model['W1'], model['b1'], model['W2'], model['b2']\n",
    "    \n",
    "    # Forward propagation\n",
    "    z1 = X.dot(W1) + b1\n",
    "    \n",
    "    a1 = fn_activ(z1)\n",
    "    \n",
    "    z2 = a1.dot(W2) + b2\n",
    "    \n",
    "    ###############################\n",
    "    ### Changes for multi class ###\n",
    "    ###############################      \n",
    "    # Softmax Activation\n",
    "    a2 = fn_softmax(z2)\n",
    "    \n",
    "    return np.argmax(a2, axis =1) # pick with one with highest probabilities"
   ]
  },
  {
   "cell_type": "markdown",
   "metadata": {
    "id": "AO0dREm202pj"
   },
   "source": [
    "## Prepare Model:"
   ]
  },
  {
   "cell_type": "code",
   "execution_count": null,
   "metadata": {
    "id": "ylYPQygT02pj"
   },
   "outputs": [],
   "source": [
    "def build_model(nn_hdim : np.int64, \n",
    "                X : np.ndarray, \n",
    "                y : np.ndarray, \n",
    "                epochs: np.int64 = EPOCHS, \n",
    "                alpha: np.float64 = ALPHA) -> dict:\n",
    "    \n",
    "    '''\n",
    "    Args:\n",
    "        nn_hdim : Number of nodes in the hidden layer\n",
    "        X : Training features to train\n",
    "        y : Training targets (labels)\n",
    "        epochs : Number of passes through the training data for gradient descent\n",
    "        alpha : learning rate        \n",
    "    Returns:\n",
    "        Model: Dictionary object containing weights and biases\n",
    "    '''\n",
    "    m, nn_input_dim = X.shape # training set size (rows and cols)\n",
    "    nn_output_dim = y.shape[1] # output layer dimensionality\n",
    "    \n",
    "    # Initialize the parameters to random values. We need to learn these.\n",
    "    # Weights\n",
    "    W1 = np.random.rand(nn_input_dim, nn_hdim) / np.sqrt(nn_input_dim)\n",
    "    W2 = np.random.rand(nn_hdim, nn_output_dim) / np.sqrt(nn_hdim)\n",
    "    \n",
    "    # Bias\n",
    "    b1 = np.zeros((1, nn_hdim))\n",
    "    b2 = np.zeros((1, nn_output_dim))\n",
    "\n",
    "    curr_loss = 0\n",
    "    loss = []\n",
    "    epoch = []\n",
    "    \n",
    "    # Gradient descent. For each batch...\n",
    "    for i in range(0, epochs):\n",
    "        \n",
    "        ##########################\n",
    "        #   Forward propagation  #\n",
    "        ##########################\n",
    "        \n",
    "        # Layer 1\n",
    "        z1 = X.dot(W1) + b1\n",
    "        \n",
    "        # Activation function for layer 1\n",
    "        a1 = fn_activ(z1)  \n",
    "        \n",
    "        # Layer 2\n",
    "        z2 = a1.dot(W2) + b2\n",
    "        \n",
    "        ###############################\n",
    "        ### Changes for multi class ###\n",
    "        ###############################  \n",
    "        a2 = fn_softmax(z2)\n",
    "\n",
    "        #######################\n",
    "        #   Back propagation  #\n",
    "        #######################\n",
    "        # Layer 2\n",
    "        dz2 = a2-y\n",
    "\n",
    "        dW2 = (a1.T).dot(dz2)\n",
    "        assert(W2.shape == dW2.shape), 'Shape of W2 {} and dW2 {} do not match'.format(W2.shape, dW2.shape)\n",
    "        \n",
    "        db2 = np.sum(dz2, axis=0, keepdims=True) # db2 is sum along axis 0\n",
    "        assert(b2.shape == db2.shape), 'Shape of b2 {} and db2 {} do not match'.format(b2.shape, db2.shape)\n",
    "        \n",
    "        da1 = dz2.dot(W2.T)\n",
    "        dz1 =  da1 * fn_activ_prime(z1)  #derivative of Activation Function\n",
    "        #                                        '*' indicates element wise multiplication\n",
    "        assert(z1.shape == dz1.shape), 'Shape of z1 {} and dz1 {} do not match'.format(W2.shape, dW2.shape)\n",
    "    \n",
    "        # Layer 1\n",
    "        dW1 = np.dot(X.T, dz1)\n",
    "        assert(W1.shape == dW1.shape), 'Shape of W1 {} and dW1 {} do not match'.format(W1.shape, dW1.shape)\n",
    "        \n",
    "        db1 = np.sum(dz1, axis=0, keepdims=True) \n",
    "        assert(b1.shape == db1.shape), 'Shape of b1 {} and db1 {} do not match'.format(b1.shape, db1.shape)\n",
    "        \n",
    "        # Gradient descent parameter update\n",
    "        W1 += -alpha * dW1/m\n",
    "        b1 += -alpha * db1/m\n",
    "        W2 += -alpha * dW2/m\n",
    "        b2 += -alpha * db2/m\n",
    "        \n",
    "        #  Model as a Dict object to be return.\n",
    "        # Assign new parameters to the model\n",
    "        model = { 'W1': W1, 'b1': b1, 'W2': W2, 'b2': b2}\n",
    "        \n",
    "        if i % 100:\n",
    "            curr_loss = calculate_loss(model, X, y)\n",
    "            loss.append(curr_loss)\n",
    "            epoch.append(i)\n",
    "        \n",
    "        # Print the loss.\n",
    "        if i % 1000 == 0:\n",
    "            print(\"Loss after iteration %i: %f\" %(i, curr_loss))\n",
    "    \n",
    "    loss_hist['epoch'] = epoch\n",
    "    loss_hist['loss'] = loss\n",
    "    \n",
    "    return model"
   ]
  },
  {
   "cell_type": "code",
   "execution_count": 17,
   "metadata": {
    "id": "2LRT_Uql02pk"
   },
   "outputs": [],
   "source": [
    "# lists to facilitate plotting \n",
    "loss_hist = {}"
   ]
  },
  {
   "cell_type": "code",
   "execution_count": 18,
   "metadata": {
    "colab": {
     "base_uri": "https://localhost:8080/"
    },
    "id": "NWA64gB802pl",
    "outputId": "872231a9-fafd-4dc1-a71a-7e149630ab06"
   },
   "outputs": [
    {
     "name": "stdout",
     "output_type": "stream",
     "text": [
      "Loss after iteration 0: 0.000000\n",
      "Loss after iteration 1000: 0.120270\n",
      "Loss after iteration 2000: 0.100887\n",
      "Loss after iteration 3000: 0.096008\n",
      "Loss after iteration 4000: 0.094124\n",
      "Loss after iteration 5000: 0.093218\n",
      "Loss after iteration 6000: 0.092690\n",
      "Loss after iteration 7000: 0.092304\n",
      "Loss after iteration 8000: 0.091940\n",
      "Loss after iteration 9000: 0.091526\n",
      "Loss after iteration 10000: 0.091018\n",
      "Loss after iteration 11000: 0.090400\n",
      "Loss after iteration 12000: 0.089680\n",
      "Loss after iteration 13000: 0.088898\n",
      "Loss after iteration 14000: 0.088105\n",
      "Loss after iteration 15000: 0.087340\n",
      "Loss after iteration 16000: 0.086625\n",
      "Loss after iteration 17000: 0.085965\n",
      "Loss after iteration 18000: 0.085358\n",
      "Loss after iteration 19000: 0.084796\n",
      "Loss after iteration 20000: 0.084273\n"
     ]
    }
   ],
   "source": [
    "# Build a model with a 4-dimensional hidden layer\n",
    "model = build_model(4, X_train, y_train,\n",
    "                    epochs = EPOCHS, \n",
    "                    alpha = ALPHA)"
   ]
  },
  {
   "cell_type": "code",
   "execution_count": 19,
   "metadata": {
    "colab": {
     "base_uri": "https://localhost:8080/"
    },
    "id": "ySgcvDEA02pm",
    "outputId": "ebd9e235-1c7a-4692-9b8a-4355d3eee050"
   },
   "outputs": [
    {
     "data": {
      "text/plain": [
       "{'W1': array([[ 0.47430028, -0.7384499 ,  0.12779674,  0.33900692],\n",
       "        [-0.89985171,  0.63090654, -0.64727421, -0.67661005],\n",
       "        [ 0.8308807 ,  2.47900759,  1.20793321,  1.13101341],\n",
       "        [ 1.08796973,  1.3832115 ,  2.25479072,  1.05005506]]),\n",
       " 'b1': array([[ 0.71764097, -0.62251674, -2.8477792 ,  0.96105608]]),\n",
       " 'W2': array([[-2.66054635,  1.71316262,  1.8354315 ],\n",
       "        [-1.36538693, -0.68449795,  3.07100475],\n",
       "        [-0.94913788, -2.49733547,  4.58739145],\n",
       "        [-2.31685978,  2.07157672,  1.48439231]]),\n",
       " 'b2': array([[ 0.17538071,  0.07326737, -0.24864809]])}"
      ]
     },
     "execution_count": 19,
     "metadata": {},
     "output_type": "execute_result"
    }
   ],
   "source": [
    "model"
   ]
  },
  {
   "cell_type": "code",
   "execution_count": 20,
   "metadata": {
    "colab": {
     "base_uri": "https://localhost:8080/",
     "height": 613
    },
    "id": "oa8WtTI202pn",
    "outputId": "3f0ca548-7715-47c7-b4fd-fac7924bc060"
   },
   "outputs": [],
   "source": [
    "loss_df = pd.DataFrame(loss_hist)"
   ]
  },
  {
   "cell_type": "code",
   "execution_count": 21,
   "metadata": {
    "colab": {
     "base_uri": "https://localhost:8080/",
     "height": 441
    },
    "id": "Y5CC6P4F02pn",
    "outputId": "706ee179-8e88-4084-c0be-14c5872fa3e4"
   },
   "outputs": [
    {
     "data": {
      "image/png": "[encoded data removed]",
      "text/plain": [
       "<Figure size 1500x600 with 2 Axes>"
      ]
     },
     "metadata": {},
     "output_type": "display_data"
    }
   ],
   "source": [
    "fig, axes = plt.subplots(1,2 , figsize = (15,6))\n",
    "\n",
    "l_range = 50\n",
    "\n",
    "ax = axes[0]\n",
    "\n",
    "loss_df.plot(x = 'epoch', y = 'loss', ax = ax)\n",
    "\n",
    "# little beautification\n",
    "txtstr = \"Errors: \\n  Start : {:7.4f}\\n   End : {:7.4f}\".format(loss_df.iloc[0]['loss'],\n",
    "                                                                loss_df.iloc[-1]['loss']) #text to plot\n",
    "\n",
    "# properties  matplotlib.patch.Patch \n",
    "props = dict(boxstyle='round', facecolor='aqua', alpha=0.5)\n",
    "\n",
    "# place a text box in upper left in axes coords\n",
    "\n",
    "ax.text(0.6, 0.95, txtstr, transform=ax.transAxes, fontsize=14,\n",
    "        verticalalignment='top', bbox=props)\n",
    "\n",
    "ax.set_xlabel(\"Epochs\")\n",
    "ax.set_ylabel(\"Error\")\n",
    "ax.set_title('Overall')\n",
    "ax.grid();\n",
    "\n",
    "ax = axes[1]\n",
    "\n",
    "loss_df[-l_range:].plot(x = 'epoch', y = 'loss', ax = ax)\n",
    "\n",
    "# little beautification\n",
    "txtstr = \"Errors: \\n  Start : {:7.4f}\\n   End : {:7.4f}\".format(loss_df.iloc[-l_range]['loss'],\n",
    "                                                                loss_df.iloc[-1]['loss']) #text to plot\n",
    "\n",
    "# place a text box in upper left in axes coords\n",
    "\n",
    "ax.text(0.6, 0.95, txtstr, transform=ax.transAxes, fontsize=14,\n",
    "        verticalalignment='top', bbox=props)\n",
    "\n",
    "ax.set_xlabel(\"Epochs\")\n",
    "ax.set_ylabel(\"Error\")\n",
    "ax.set_title('Last {} records'.format(l_range))\n",
    "ax.grid();\n",
    "plt.tight_layout()"
   ]
  },
  {
   "cell_type": "markdown",
   "metadata": {},
   "source": [
    "## Predictions\n",
    "### Train Data"
   ]
  },
  {
   "cell_type": "code",
   "execution_count": 22,
   "metadata": {
    "id": "jzC0f3Vw02po"
   },
   "outputs": [],
   "source": [
    "def fn_make_predicitions(pred_func, X):\n",
    "    y_pred = pred_func(X)\n",
    "    return y_pred"
   ]
  },
  {
   "cell_type": "code",
   "execution_count": 23,
   "metadata": {
    "colab": {
     "base_uri": "https://localhost:8080/"
    },
    "id": "TpTJ41pP02po",
    "outputId": "f3bda5d5-1d08-4307-ca44-ff1354e9d676"
   },
   "outputs": [
    {
     "name": "stdout",
     "output_type": "stream",
     "text": [
      "Accuracy score on Train Data : 0.9833333333333333\n"
     ]
    }
   ],
   "source": [
    "y_pred = predict(model, X_train)\n",
    "print('Accuracy score on Train Data :', accuracy_score(np.argmax(y_train, axis =1), y_pred))"
   ]
  },
  {
   "cell_type": "code",
   "execution_count": 24,
   "metadata": {
    "colab": {
     "base_uri": "https://localhost:8080/"
    },
    "id": "MJhVHaoe17Kx",
    "outputId": "f54ec5b6-ad6b-4537-97ac-b3eae4326364"
   },
   "outputs": [
    {
     "name": "stdout",
     "output_type": "stream",
     "text": [
      "              precision    recall  f1-score   support\n",
      "\n",
      "           0       1.00      1.00      1.00        40\n",
      "           1       0.97      0.97      0.97        40\n",
      "           2       0.97      0.97      0.97        40\n",
      "\n",
      "    accuracy                           0.98       120\n",
      "   macro avg       0.98      0.98      0.98       120\n",
      "weighted avg       0.98      0.98      0.98       120\n",
      "\n"
     ]
    }
   ],
   "source": [
    "print(classification_report(np.argmax(y_train, axis =1), y_pred))"
   ]
  },
  {
   "cell_type": "markdown",
   "metadata": {},
   "source": [
    "### Test Data"
   ]
  },
  {
   "cell_type": "code",
   "execution_count": 25,
   "metadata": {
    "colab": {
     "base_uri": "https://localhost:8080/"
    },
    "id": "ALSrXj1y02pp",
    "outputId": "85d712a1-a35e-4f4f-9075-10c6013b8b48"
   },
   "outputs": [
    {
     "name": "stdout",
     "output_type": "stream",
     "text": [
      "Accuracy score on Test Data : 0.9666666666666667\n"
     ]
    }
   ],
   "source": [
    "y_pred = predict(model,X_test)\n",
    "\n",
    "print('Accuracy score on Test Data :', accuracy_score(np.argmax(y_test, axis = 1), y_pred))"
   ]
  },
  {
   "cell_type": "code",
   "execution_count": 26,
   "metadata": {
    "colab": {
     "base_uri": "https://localhost:8080/"
    },
    "id": "2-9J2srK02pp",
    "outputId": "d53e6cdf-9108-48f1-a812-8a8d32529912"
   },
   "outputs": [
    {
     "name": "stdout",
     "output_type": "stream",
     "text": [
      "              precision    recall  f1-score   support\n",
      "\n",
      "           0       1.00      1.00      1.00        10\n",
      "           1       1.00      0.90      0.95        10\n",
      "           2       0.91      1.00      0.95        10\n",
      "\n",
      "    accuracy                           0.97        30\n",
      "   macro avg       0.97      0.97      0.97        30\n",
      "weighted avg       0.97      0.97      0.97        30\n",
      "\n"
     ]
    }
   ],
   "source": [
    "print(classification_report(np.argmax(y_test, axis = 1), y_pred))"
   ]
  },
  {
   "cell_type": "code",
   "execution_count": 27,
   "metadata": {},
   "outputs": [
    {
     "data": {
      "text/plain": [
       "array([[10,  0,  0],\n",
       "       [ 0,  9,  1],\n",
       "       [ 0,  0, 10]])"
      ]
     },
     "execution_count": 27,
     "metadata": {},
     "output_type": "execute_result"
    }
   ],
   "source": [
    "## Confusion Matrix helps\n",
    "\n",
    "cm  = confusion_matrix(np.argmax(y_test, axis = 1), y_pred)\n",
    "cm"
   ]
  },
  {
   "cell_type": "code",
   "execution_count": 28,
   "metadata": {},
   "outputs": [
    {
     "data": {
      "image/png": "[encoded data removed]",
      "text/plain": [
       "<Figure size 500x500 with 1 Axes>"
      ]
     },
     "metadata": {},
     "output_type": "display_data"
    }
   ],
   "source": [
    "disp = ConfusionMatrixDisplay(confusion_matrix=cm,\n",
    "                              display_labels=iris.target_names)\n",
    "\n",
    "fig, ax = plt.subplots(figsize = (5,5))\n",
    "\n",
    "disp.plot(ax = ax, cmap = 'Blues', colorbar=False)\n",
    "\n",
    "plt.show();"
   ]
  },
  {
   "cell_type": "code",
   "execution_count": null,
   "metadata": {},
   "outputs": [],
   "source": []
  }
 ],
 "metadata": {
  "accelerator": "GPU",
  "colab": {
   "name": "S05a_one_hidden_layer_with_tanh_wip.ipynb",
   "provenance": []
  },
  "kernelspec": {
   "display_name": "Sep2024",
   "language": "python",
   "name": "python3"
  },
  "language_info": {
   "codemirror_mode": {
    "name": "ipython",
    "version": 3
   },
   "file_extension": ".py",
   "mimetype": "text/x-python",
   "name": "python",
   "nbconvert_exporter": "python",
   "pygments_lexer": "ipython3",
   "version": "3.10.12"
  }
 },
 "nbformat": 4,
 "nbformat_minor": 4
}
