{
 "cells": [
  {
   "cell_type": "markdown",
   "metadata": {},
   "source": [
    "Q1"
   ]
  },
  {
   "cell_type": "code",
   "execution_count": null,
   "metadata": {},
   "outputs": [
    {
     "name": "stdout",
     "output_type": "stream",
     "text": [
      "\n",
      "\n",
      "*\n",
      "\n",
      "**\n",
      "\n",
      "***\n",
      "\n",
      "****\n",
      "\n",
      "*****\n",
      "\n",
      "******\n",
      "\n",
      "*******\n",
      "\n",
      "********\n",
      "\n"
     ]
    }
   ],
   "source": [
    "rows = 9\n",
    "    \n",
    "for i in range(0, rows):\n",
    "    for j in range(0, i):\n",
    "        print('*', end='')\n",
    "    print('\\n')\n",
    "    "
   ]
  },
  {
   "cell_type": "markdown",
   "metadata": {},
   "source": [
    "Q2: Fibbonaci series"
   ]
  },
  {
   "cell_type": "code",
   "execution_count": 67,
   "metadata": {},
   "outputs": [
    {
     "name": "stdout",
     "output_type": "stream",
     "text": [
      "1 1 2 3 5 8 13 21 34 55 89 "
     ]
    }
   ],
   "source": [
    "a = 1\n",
    "b = 1\n",
    "print(a, b, end=' ')\n",
    "for i in range(1, 10):\n",
    "    c = a+b\n",
    "    print(c, end=' ')\n",
    "    a=b\n",
    "    b=c\n"
   ]
  },
  {
   "cell_type": "markdown",
   "metadata": {},
   "source": [
    "Q3: Sum fo digits in an array even or odd"
   ]
  },
  {
   "cell_type": "code",
   "execution_count": 68,
   "metadata": {},
   "outputs": [
    {
     "name": "stdout",
     "output_type": "stream",
     "text": [
      "Sum of digit 123 is even\n",
      "Sum of digit 51 is even\n",
      "Sum of digit 76 is odd\n",
      "Sum of digit 84 is even\n",
      "Sum of digit 4331 is odd\n"
     ]
    }
   ],
   "source": [
    "arr = [123, 51, 76, 84, 4331]\n",
    "for n in arr:\n",
    "    s = 0\n",
    "    n1 = n\n",
    "    while(n):\n",
    "        dig = n%10\n",
    "        s += dig\n",
    "        n = int(n/10)\n",
    "    #print(\"SUm=\", s)\n",
    "    if(s%2==0):\n",
    "        print(f'Sum of digit {n1} is even')\n",
    "    else:\n",
    "        print(f'Sum of digit {n1} is odd')"
   ]
  },
  {
   "cell_type": "markdown",
   "metadata": {},
   "source": [
    "Q4: Armstrong number"
   ]
  },
  {
   "cell_type": "code",
   "execution_count": 79,
   "metadata": {},
   "outputs": [
    {
     "name": "stdout",
     "output_type": "stream",
     "text": [
      "Not Armstrong\n"
     ]
    }
   ],
   "source": [
    "n = n1 = 1534\n",
    "s = 0\n",
    "size = 0\n",
    "while(n):\n",
    "    dig = n%10\n",
    "    size+=1\n",
    "    n = int(n/10)\n",
    "\n",
    "# print(size)\n",
    "n=n1\n",
    "\n",
    "while(n):\n",
    "    dig = n%10\n",
    "    s += dig**size\n",
    "    n = int(n/10)\n",
    "\n",
    "# print(\"sum =\", s)\n",
    "if(s == n1):\n",
    "    print('Armstrong')\n",
    "else:\n",
    "    print('Not Armstrong')"
   ]
  },
  {
   "cell_type": "markdown",
   "metadata": {},
   "source": [
    "Q5: Left circular rotaion"
   ]
  },
  {
   "cell_type": "code",
   "execution_count": 76,
   "metadata": {},
   "outputs": [
    {
     "name": "stdout",
     "output_type": "stream",
     "text": [
      "[3, 4, 5, 6, 1, 2]\n"
     ]
    }
   ],
   "source": [
    "rotation = 8\n",
    "arr = [1,2,3,4,5,6]\n",
    "\n",
    "for i in range(rotation):\n",
    "    arr = arr[1:] + arr[0:1]\n",
    "\n",
    "print(arr)"
   ]
  },
  {
   "cell_type": "markdown",
   "metadata": {},
   "source": [
    "Q6: Tranpose of matrix"
   ]
  },
  {
   "cell_type": "code",
   "execution_count": 77,
   "metadata": {},
   "outputs": [
    {
     "name": "stdout",
     "output_type": "stream",
     "text": [
      "[[1, 4, 7], [2, 5, 8], [3, 6, 9]]\n"
     ]
    }
   ],
   "source": [
    "arr = [[1,2,3],\n",
    "       [4,5,6],\n",
    "       [7,8,9]]\n",
    "\n",
    "\n",
    "arr2 = []\n",
    "for r in range(len(arr)):\n",
    "    arr1 = []\n",
    "    for c in range(len(arr[r])):\n",
    "        arr1.append(arr[c][r])\n",
    "    arr2.append(arr1)\n",
    "\n",
    "print(arr2)\n",
    "    "
   ]
  },
  {
   "cell_type": "code",
   "execution_count": null,
   "metadata": {},
   "outputs": [
    {
     "name": "stdout",
     "output_type": "stream",
     "text": [
      "      *\n",
      "     **\n",
      "    ***\n",
      "   ****\n",
      "  *****\n",
      " ******\n"
     ]
    }
   ],
   "source": [
    "n = 6\n",
    "for i in range(1,n+1):\n",
    "    print((n-i)*' ', i*'*')"
   ]
  },
  {
   "cell_type": "code",
   "execution_count": null,
   "metadata": {},
   "outputs": [
    {
     "data": {
      "text/plain": [
       "[0, 1, 1, 2, 3, 5, 8, 13, 21, 34]"
      ]
     },
     "metadata": {},
     "output_type": "display_data"
    }
   ],
   "source": [
    "a,b =0,1\n",
    "fib = [a,b]\n",
    "n = fib[-1]+fib[-2]\n",
    "while n <=50:\n",
    "    fib.append(n)\n",
    "    n = fib[-1]+fib[-2]\n",
    "fib\n"
   ]
  },
  {
   "cell_type": "code",
   "execution_count": null,
   "metadata": {},
   "outputs": [
    {
     "data": {
      "text/plain": [
       "[2,\n",
       " 3,\n",
       " 5,\n",
       " 7,\n",
       " 11,\n",
       " 13,\n",
       " 17,\n",
       " 19,\n",
       " 23,\n",
       " 29,\n",
       " 31,\n",
       " 37,\n",
       " 41,\n",
       " 43,\n",
       " 47,\n",
       " 53,\n",
       " 59,\n",
       " 61,\n",
       " 67,\n",
       " 71,\n",
       " 73,\n",
       " 79,\n",
       " 83,\n",
       " 89,\n",
       " 97]"
      ]
     },
     "metadata": {},
     "output_type": "display_data"
    }
   ],
   "source": [
    "def isprime(i):\n",
    "    for j in range(2,int(i**0.5)+1):\n",
    "        if i%j == 0:\n",
    "            return False\n",
    "    return True\n",
    "\n",
    "\n",
    "\n",
    "n = 100\n",
    "prime = []\n",
    "\n",
    "for i in range(2,n+1):\n",
    "    if isprime(i):\n",
    "        prime.append(i)\n",
    "\n",
    "prime"
   ]
  },
  {
   "cell_type": "code",
   "execution_count": null,
   "metadata": {},
   "outputs": [
    {
     "data": {
      "text/plain": [
       "('Amstrong', 'Not amstrong', 'Amstrong')"
      ]
     },
     "metadata": {},
     "output_type": "display_data"
    }
   ],
   "source": [
    "amst = lambda n :  'Amstrong' if sum([int(i)**len(str(n)) for i in str(n)])==n else 'Not amstrong'\n",
    "\n",
    "amst(8208), amst(123), amst(371)"
   ]
  },
  {
   "cell_type": "code",
   "execution_count": null,
   "metadata": {},
   "outputs": [
    {
     "name": "stdout",
     "output_type": "stream",
     "text": [
      "[2, 3, 4, 5, 6, 7, 1]\n"
     ]
    }
   ],
   "source": [
    "def left_shift(ar, n =1):\n",
    "    for _ in range(n):\n",
    "        ar = ar[1:]+ar[0:1] \n",
    "    return ar\n",
    "\n",
    "n = 7\n",
    "arr = [i for i in range(1,n+1)]\n",
    "\n",
    "print(left_shift(arr))"
   ]
  },
  {
   "cell_type": "code",
   "execution_count": null,
   "metadata": {},
   "outputs": [
    {
     "data": {
      "text/plain": [
       "([[1, 2, 3, 4], [1, 2, 3, 4], [1, 2, 3, 4], [1, 2, 3, 4]],\n",
       " [1, 1, 1, 1, 2, 2, 2, 2, 3, 3, 3, 3, 4, 4, 4, 4])"
      ]
     },
     "metadata": {},
     "output_type": "display_data"
    }
   ],
   "source": [
    "flattenign = lambda arr2d : [j for j in i for i in arr2d]\n",
    "\n",
    "n=4\n",
    "arr= [[i for i in range(1,n+1)] for j in range(n)]\n",
    "arr, flattenign(arr)"
   ]
  }
 ],
 "metadata": {
  "kernelspec": {
   "display_name": "pythonProject",
   "language": "python",
   "name": "python3"
  },
  "language_info": {
   "codemirror_mode": {
    "name": "ipython",
    "version": 3
   },
   "file_extension": ".py",
   "mimetype": "text/x-python",
   "name": "python",
   "nbconvert_exporter": "python",
   "pygments_lexer": "ipython3",
   "version": "3.12.4"
  }
 },
 "nbformat": 4,
 "nbformat_minor": 2
}
